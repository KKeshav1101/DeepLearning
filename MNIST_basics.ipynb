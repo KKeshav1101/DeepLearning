{
 "cells": [
  {
   "cell_type": "code",
   "execution_count": 3,
   "id": "fcfaeed9",
   "metadata": {},
   "outputs": [],
   "source": [
    "#lesson 3: neural networks and mnist basics"
   ]
  },
  {
   "cell_type": "code",
   "execution_count": 4,
   "id": "292910c8",
   "metadata": {},
   "outputs": [],
   "source": [
    "!pip install -Uqq fastbook\n",
    "import fastbook\n",
    "fastbook.setup_book()"
   ]
  },
  {
   "cell_type": "code",
   "execution_count": 5,
   "id": "b8026086",
   "metadata": {},
   "outputs": [],
   "source": [
    "from fastai.vision.all import *\n",
    "from fastbook import *\n",
    "matplotlib.rc('image',cmap='Greys')"
   ]
  },
  {
   "cell_type": "code",
   "execution_count": 6,
   "id": "c79314ef",
   "metadata": {},
   "outputs": [],
   "source": [
    "#tutorial to try to create a model that can classify any image as a 3 or 7. "
   ]
  },
  {
   "cell_type": "code",
   "execution_count": 7,
   "id": "ccdeb2e1",
   "metadata": {},
   "outputs": [],
   "source": [
    "#downloading a sample of MNIST that contains images of just 3 and 7\n",
    "path=untar_data(URLs.MNIST_SAMPLE) "
   ]
  },
  {
   "cell_type": "code",
   "execution_count": 8,
   "id": "2697e3d7",
   "metadata": {},
   "outputs": [],
   "source": [
    "Path.BASE_PATH=path"
   ]
  },
  {
   "cell_type": "code",
   "execution_count": 9,
   "id": "be9141fb",
   "metadata": {},
   "outputs": [
    {
     "data": {
      "text/plain": [
       "(#3) [Path('labels.csv'),Path('train'),Path('valid')]"
      ]
     },
     "execution_count": 9,
     "metadata": {},
     "output_type": "execute_result"
    }
   ],
   "source": [
    "path.ls() #we can see whats in this directory by using ls method added by fastai."
   ]
  },
  {
   "cell_type": "code",
   "execution_count": 10,
   "id": "9c01a214",
   "metadata": {},
   "outputs": [
    {
     "data": {
      "text/plain": [
       "(#2) [Path('train/3'),Path('train/7')]"
      ]
     },
     "execution_count": 10,
     "metadata": {},
     "output_type": "execute_result"
    }
   ],
   "source": [
    "#The MNIST DATASET follows a common layout for ML datasets: Separate folders for the\n",
    "#training set and validation set.This will get us whats inside train set\n",
    "(path/'train').ls()"
   ]
  },
  {
   "cell_type": "code",
   "execution_count": 11,
   "id": "5ae794c4",
   "metadata": {},
   "outputs": [
    {
     "data": {
      "text/plain": [
       "(#6131) [Path('train/3/10.png'),Path('train/3/10000.png'),Path('train/3/10011.png'),Path('train/3/10031.png'),Path('train/3/10034.png'),Path('train/3/10042.png'),Path('train/3/10052.png'),Path('train/3/1007.png'),Path('train/3/10074.png'),Path('train/3/10091.png')...]"
      ]
     },
     "execution_count": 11,
     "metadata": {},
     "output_type": "execute_result"
    }
   ],
   "source": [
    "'''Theres a folder of 3s and 7s. In ml parlance, we say that 3 and 7 are the labels or targets in \n",
    "this dataset. The following piece of code lets us peak into them'''\n",
    "threes=(path/'train'/'3').ls().sorted()\n",
    "sevens=(path/'train'/'7').ls().sorted()\n",
    "threes"
   ]
  },
  {
   "cell_type": "code",
   "execution_count": 12,
   "id": "bced8ad7",
   "metadata": {},
   "outputs": [
    {
     "data": {
      "image/png": "[encoded data removed]",
      "text/plain": [
       "<PIL.PngImagePlugin.PngImageFile image mode=L size=28x28>"
      ]
     },
     "execution_count": 12,
     "metadata": {},
     "output_type": "execute_result"
    }
   ],
   "source": [
    "#As we might expect, its full of images.Sampling out one handwritten 3\n",
    "im3_path=threes[1]\n",
    "im3=Image.open(im3_path)\n",
    "im3"
   ]
  },
  {
   "cell_type": "code",
   "execution_count": 13,
   "id": "b6dbee62",
   "metadata": {},
   "outputs": [
    {
     "data": {
      "text/plain": [
       "array([[  0,   0,   0,   0,   0,   0],\n",
       "       [  0,   0,   0,   0,   0,  29],\n",
       "       [  0,   0,   0,  48, 166, 224],\n",
       "       [  0,  93, 244, 249, 253, 187],\n",
       "       [  0, 107, 253, 253, 230,  48],\n",
       "       [  0,   3,  20,  20,  15,   0]], dtype=uint8)"
      ]
     },
     "execution_count": 13,
     "metadata": {},
     "output_type": "execute_result"
    }
   ],
   "source": [
    "#now we use PIL , jupyter has it already so we dont import separately. \n",
    "#PIL is the PYTHON IMAGING LIBRARY, MOST WIDELY USED PYTHON PACKAGE FOR OPENING,MANIPULATING AND VIEWING IMAGES.\n",
    "#tO VIEW THE NUMBERS THAT MAKE UP THIS IMAGE, WE HAVE TO CONVERT IT INTO A NUMPY ARRAY OR A PYTORCH TENSOR\n",
    "#THUS\n",
    "array(im3)[4:10,4:10]"
   ]
  },
  {
   "cell_type": "code",
   "execution_count": 14,
   "id": "cc4befaf",
   "metadata": {},
   "outputs": [
    {
     "data": {
      "text/plain": [
       "tensor([[  0,   0,   0,   0,   0,   0],\n",
       "        [  0,   0,   0,   0,   0,  29],\n",
       "        [  0,   0,   0,  48, 166, 224],\n",
       "        [  0,  93, 244, 249, 253, 187],\n",
       "        [  0, 107, 253, 253, 230,  48],\n",
       "        [  0,   3,  20,  20,  15,   0]], dtype=torch.uint8)"
      ]
     },
     "execution_count": 14,
     "metadata": {},
     "output_type": "execute_result"
    }
   ],
   "source": [
    "tensor(im3)[4:10,4:10]"
   ]
  },
  {
   "cell_type": "code",
   "execution_count": 15,
   "id": "8ab57462",
   "metadata": {},
   "outputs": [
    {
     "data": {
      "text/html": [
       "<style type=\"text/css\">\n",
       "#T_50daf_row0_col0, #T_50daf_row0_col1, #T_50daf_row0_col2, #T_50daf_row0_col3, #T_50daf_row0_col4, #T_50daf_row0_col5, #T_50daf_row0_col6, #T_50daf_row0_col7, #T_50daf_row0_col8, #T_50daf_row0_col9, #T_50daf_row0_col10, #T_50daf_row0_col11, #T_50daf_row0_col12, #T_50daf_row0_col13, #T_50daf_row0_col14, #T_50daf_row0_col15, #T_50daf_row0_col16, #T_50daf_row0_col17, #T_50daf_row1_col0, #T_50daf_row1_col1, #T_50daf_row1_col2, #T_50daf_row1_col3, #T_50daf_row1_col4, #T_50daf_row1_col15, #T_50daf_row1_col16, #T_50daf_row1_col17, #T_50daf_row2_col0, #T_50daf_row2_col1, #T_50daf_row2_col2, #T_50daf_row2_col15, #T_50daf_row2_col16, #T_50daf_row2_col17, #T_50daf_row3_col0, #T_50daf_row3_col15, #T_50daf_row3_col16, #T_50daf_row3_col17, #T_50daf_row4_col0, #T_50daf_row4_col6, #T_50daf_row4_col7, #T_50daf_row4_col8, #T_50daf_row4_col9, #T_50daf_row4_col10, #T_50daf_row4_col15, #T_50daf_row4_col16, #T_50daf_row4_col17, #T_50daf_row5_col0, #T_50daf_row5_col5, #T_50daf_row5_col6, #T_50daf_row5_col7, #T_50daf_row5_col8, #T_50daf_row5_col9, #T_50daf_row5_col15, #T_50daf_row5_col16, #T_50daf_row5_col17, #T_50daf_row6_col0, #T_50daf_row6_col1, #T_50daf_row6_col2, #T_50daf_row6_col3, #T_50daf_row6_col4, #T_50daf_row6_col5, #T_50daf_row6_col6, #T_50daf_row6_col7, #T_50daf_row6_col8, #T_50daf_row6_col9, #T_50daf_row6_col14, #T_50daf_row6_col15, #T_50daf_row6_col16, #T_50daf_row6_col17, #T_50daf_row7_col0, #T_50daf_row7_col1, #T_50daf_row7_col2, #T_50daf_row7_col3, #T_50daf_row7_col4, #T_50daf_row7_col5, #T_50daf_row7_col6, #T_50daf_row7_col13, #T_50daf_row7_col14, #T_50daf_row7_col15, #T_50daf_row7_col16, #T_50daf_row7_col17, #T_50daf_row8_col0, #T_50daf_row8_col1, #T_50daf_row8_col2, #T_50daf_row8_col3, #T_50daf_row8_col4, #T_50daf_row8_col13, #T_50daf_row8_col14, #T_50daf_row8_col15, #T_50daf_row8_col16, #T_50daf_row8_col17, #T_50daf_row9_col0, #T_50daf_row9_col1, #T_50daf_row9_col2, #T_50daf_row9_col3, #T_50daf_row9_col4, #T_50daf_row9_col16, #T_50daf_row9_col17, #T_50daf_row10_col0, #T_50daf_row10_col1, #T_50daf_row10_col2, #T_50daf_row10_col3, #T_50daf_row10_col4, #T_50daf_row10_col5, #T_50daf_row10_col6, #T_50daf_row10_col17 {\n",
       "  font-size: 6pt;\n",
       "  background-color: #ffffff;\n",
       "  color: #000000;\n",
       "}\n",
       "#T_50daf_row1_col5 {\n",
       "  font-size: 6pt;\n",
       "  background-color: #efefef;\n",
       "  color: #000000;\n",
       "}\n",
       "#T_50daf_row1_col6, #T_50daf_row1_col13 {\n",
       "  font-size: 6pt;\n",
       "  background-color: #7c7c7c;\n",
       "  color: #f1f1f1;\n",
       "}\n",
       "#T_50daf_row1_col7 {\n",
       "  font-size: 6pt;\n",
       "  background-color: #4a4a4a;\n",
       "  color: #f1f1f1;\n",
       "}\n",
       "#T_50daf_row1_col8, #T_50daf_row1_col9, #T_50daf_row1_col10, #T_50daf_row2_col5, #T_50daf_row2_col6, #T_50daf_row2_col7, #T_50daf_row2_col11, #T_50daf_row2_col12, #T_50daf_row2_col13, #T_50daf_row3_col4, #T_50daf_row3_col12, #T_50daf_row3_col13, #T_50daf_row4_col1, #T_50daf_row4_col2, #T_50daf_row4_col3, #T_50daf_row4_col12, #T_50daf_row4_col13, #T_50daf_row5_col12, #T_50daf_row6_col11, #T_50daf_row9_col11, #T_50daf_row10_col11, #T_50daf_row10_col12, #T_50daf_row10_col13, #T_50daf_row10_col14, #T_50daf_row10_col15, #T_50daf_row10_col16 {\n",
       "  font-size: 6pt;\n",
       "  background-color: #000000;\n",
       "  color: #f1f1f1;\n",
       "}\n",
       "#T_50daf_row1_col11 {\n",
       "  font-size: 6pt;\n",
       "  background-color: #606060;\n",
       "  color: #f1f1f1;\n",
       "}\n",
       "#T_50daf_row1_col12 {\n",
       "  font-size: 6pt;\n",
       "  background-color: #4d4d4d;\n",
       "  color: #f1f1f1;\n",
       "}\n",
       "#T_50daf_row1_col14 {\n",
       "  font-size: 6pt;\n",
       "  background-color: #bbbbbb;\n",
       "  color: #000000;\n",
       "}\n",
       "#T_50daf_row2_col3 {\n",
       "  font-size: 6pt;\n",
       "  background-color: #e4e4e4;\n",
       "  color: #000000;\n",
       "}\n",
       "#T_50daf_row2_col4, #T_50daf_row8_col6 {\n",
       "  font-size: 6pt;\n",
       "  background-color: #6b6b6b;\n",
       "  color: #f1f1f1;\n",
       "}\n",
       "#T_50daf_row2_col8, #T_50daf_row2_col14, #T_50daf_row3_col14 {\n",
       "  font-size: 6pt;\n",
       "  background-color: #171717;\n",
       "  color: #f1f1f1;\n",
       "}\n",
       "#T_50daf_row2_col9, #T_50daf_row3_col11 {\n",
       "  font-size: 6pt;\n",
       "  background-color: #4b4b4b;\n",
       "  color: #f1f1f1;\n",
       "}\n",
       "#T_50daf_row2_col10, #T_50daf_row7_col10, #T_50daf_row8_col8, #T_50daf_row8_col10, #T_50daf_row9_col8, #T_50daf_row9_col10 {\n",
       "  font-size: 6pt;\n",
       "  background-color: #010101;\n",
       "  color: #f1f1f1;\n",
       "}\n",
       "#T_50daf_row3_col1 {\n",
       "  font-size: 6pt;\n",
       "  background-color: #272727;\n",
       "  color: #f1f1f1;\n",
       "}\n",
       "#T_50daf_row3_col2 {\n",
       "  font-size: 6pt;\n",
       "  background-color: #0a0a0a;\n",
       "  color: #f1f1f1;\n",
       "}\n",
       "#T_50daf_row3_col3 {\n",
       "  font-size: 6pt;\n",
       "  background-color: #050505;\n",
       "  color: #f1f1f1;\n",
       "}\n",
       "#T_50daf_row3_col5 {\n",
       "  font-size: 6pt;\n",
       "  background-color: #333333;\n",
       "  color: #f1f1f1;\n",
       "}\n",
       "#T_50daf_row3_col6 {\n",
       "  font-size: 6pt;\n",
       "  background-color: #e6e6e6;\n",
       "  color: #000000;\n",
       "}\n",
       "#T_50daf_row3_col7, #T_50daf_row3_col10 {\n",
       "  font-size: 6pt;\n",
       "  background-color: #fafafa;\n",
       "  color: #000000;\n",
       "}\n",
       "#T_50daf_row3_col8 {\n",
       "  font-size: 6pt;\n",
       "  background-color: #fbfbfb;\n",
       "  color: #000000;\n",
       "}\n",
       "#T_50daf_row3_col9 {\n",
       "  font-size: 6pt;\n",
       "  background-color: #fdfdfd;\n",
       "  color: #000000;\n",
       "}\n",
       "#T_50daf_row4_col4 {\n",
       "  font-size: 6pt;\n",
       "  background-color: #1b1b1b;\n",
       "  color: #f1f1f1;\n",
       "}\n",
       "#T_50daf_row4_col5 {\n",
       "  font-size: 6pt;\n",
       "  background-color: #e0e0e0;\n",
       "  color: #000000;\n",
       "}\n",
       "#T_50daf_row4_col11 {\n",
       "  font-size: 6pt;\n",
       "  background-color: #4e4e4e;\n",
       "  color: #f1f1f1;\n",
       "}\n",
       "#T_50daf_row4_col14 {\n",
       "  font-size: 6pt;\n",
       "  background-color: #767676;\n",
       "  color: #f1f1f1;\n",
       "}\n",
       "#T_50daf_row5_col1 {\n",
       "  font-size: 6pt;\n",
       "  background-color: #fcfcfc;\n",
       "  color: #000000;\n",
       "}\n",
       "#T_50daf_row5_col2, #T_50daf_row5_col3 {\n",
       "  font-size: 6pt;\n",
       "  background-color: #f6f6f6;\n",
       "  color: #000000;\n",
       "}\n",
       "#T_50daf_row5_col4, #T_50daf_row7_col7 {\n",
       "  font-size: 6pt;\n",
       "  background-color: #f8f8f8;\n",
       "  color: #000000;\n",
       "}\n",
       "#T_50daf_row5_col10, #T_50daf_row10_col7 {\n",
       "  font-size: 6pt;\n",
       "  background-color: #e8e8e8;\n",
       "  color: #000000;\n",
       "}\n",
       "#T_50daf_row5_col11 {\n",
       "  font-size: 6pt;\n",
       "  background-color: #222222;\n",
       "  color: #f1f1f1;\n",
       "}\n",
       "#T_50daf_row5_col13, #T_50daf_row6_col12 {\n",
       "  font-size: 6pt;\n",
       "  background-color: #090909;\n",
       "  color: #f1f1f1;\n",
       "}\n",
       "#T_50daf_row5_col14 {\n",
       "  font-size: 6pt;\n",
       "  background-color: #d0d0d0;\n",
       "  color: #000000;\n",
       "}\n",
       "#T_50daf_row6_col10, #T_50daf_row7_col11, #T_50daf_row9_col6 {\n",
       "  font-size: 6pt;\n",
       "  background-color: #060606;\n",
       "  color: #f1f1f1;\n",
       "}\n",
       "#T_50daf_row6_col13 {\n",
       "  font-size: 6pt;\n",
       "  background-color: #979797;\n",
       "  color: #f1f1f1;\n",
       "}\n",
       "#T_50daf_row7_col8 {\n",
       "  font-size: 6pt;\n",
       "  background-color: #b6b6b6;\n",
       "  color: #000000;\n",
       "}\n",
       "#T_50daf_row7_col9 {\n",
       "  font-size: 6pt;\n",
       "  background-color: #252525;\n",
       "  color: #f1f1f1;\n",
       "}\n",
       "#T_50daf_row7_col12 {\n",
       "  font-size: 6pt;\n",
       "  background-color: #999999;\n",
       "  color: #f1f1f1;\n",
       "}\n",
       "#T_50daf_row8_col5 {\n",
       "  font-size: 6pt;\n",
       "  background-color: #f9f9f9;\n",
       "  color: #000000;\n",
       "}\n",
       "#T_50daf_row8_col7 {\n",
       "  font-size: 6pt;\n",
       "  background-color: #101010;\n",
       "  color: #f1f1f1;\n",
       "}\n",
       "#T_50daf_row8_col9, #T_50daf_row9_col9 {\n",
       "  font-size: 6pt;\n",
       "  background-color: #020202;\n",
       "  color: #f1f1f1;\n",
       "}\n",
       "#T_50daf_row8_col11 {\n",
       "  font-size: 6pt;\n",
       "  background-color: #545454;\n",
       "  color: #f1f1f1;\n",
       "}\n",
       "#T_50daf_row8_col12 {\n",
       "  font-size: 6pt;\n",
       "  background-color: #f1f1f1;\n",
       "  color: #000000;\n",
       "}\n",
       "#T_50daf_row9_col5 {\n",
       "  font-size: 6pt;\n",
       "  background-color: #f7f7f7;\n",
       "  color: #000000;\n",
       "}\n",
       "#T_50daf_row9_col7 {\n",
       "  font-size: 6pt;\n",
       "  background-color: #030303;\n",
       "  color: #f1f1f1;\n",
       "}\n",
       "#T_50daf_row9_col12 {\n",
       "  font-size: 6pt;\n",
       "  background-color: #181818;\n",
       "  color: #f1f1f1;\n",
       "}\n",
       "#T_50daf_row9_col13 {\n",
       "  font-size: 6pt;\n",
       "  background-color: #303030;\n",
       "  color: #f1f1f1;\n",
       "}\n",
       "#T_50daf_row9_col14 {\n",
       "  font-size: 6pt;\n",
       "  background-color: #a9a9a9;\n",
       "  color: #f1f1f1;\n",
       "}\n",
       "#T_50daf_row9_col15 {\n",
       "  font-size: 6pt;\n",
       "  background-color: #fefefe;\n",
       "  color: #000000;\n",
       "}\n",
       "#T_50daf_row10_col8, #T_50daf_row10_col9 {\n",
       "  font-size: 6pt;\n",
       "  background-color: #bababa;\n",
       "  color: #000000;\n",
       "}\n",
       "#T_50daf_row10_col10 {\n",
       "  font-size: 6pt;\n",
       "  background-color: #393939;\n",
       "  color: #f1f1f1;\n",
       "}\n",
       "</style>\n",
       "<table id=\"T_50daf\">\n",
       "  <thead>\n",
       "    <tr>\n",
       "      <th class=\"blank level0\" >&nbsp;</th>\n",
       "      <th id=\"T_50daf_level0_col0\" class=\"col_heading level0 col0\" >0</th>\n",
       "      <th id=\"T_50daf_level0_col1\" class=\"col_heading level0 col1\" >1</th>\n",
       "      <th id=\"T_50daf_level0_col2\" class=\"col_heading level0 col2\" >2</th>\n",
       "      <th id=\"T_50daf_level0_col3\" class=\"col_heading level0 col3\" >3</th>\n",
       "      <th id=\"T_50daf_level0_col4\" class=\"col_heading level0 col4\" >4</th>\n",
       "      <th id=\"T_50daf_level0_col5\" class=\"col_heading level0 col5\" >5</th>\n",
       "      <th id=\"T_50daf_level0_col6\" class=\"col_heading level0 col6\" >6</th>\n",
       "      <th id=\"T_50daf_level0_col7\" class=\"col_heading level0 col7\" >7</th>\n",
       "      <th id=\"T_50daf_level0_col8\" class=\"col_heading level0 col8\" >8</th>\n",
       "      <th id=\"T_50daf_level0_col9\" class=\"col_heading level0 col9\" >9</th>\n",
       "      <th id=\"T_50daf_level0_col10\" class=\"col_heading level0 col10\" >10</th>\n",
       "      <th id=\"T_50daf_level0_col11\" class=\"col_heading level0 col11\" >11</th>\n",
       "      <th id=\"T_50daf_level0_col12\" class=\"col_heading level0 col12\" >12</th>\n",
       "      <th id=\"T_50daf_level0_col13\" class=\"col_heading level0 col13\" >13</th>\n",
       "      <th id=\"T_50daf_level0_col14\" class=\"col_heading level0 col14\" >14</th>\n",
       "      <th id=\"T_50daf_level0_col15\" class=\"col_heading level0 col15\" >15</th>\n",
       "      <th id=\"T_50daf_level0_col16\" class=\"col_heading level0 col16\" >16</th>\n",
       "      <th id=\"T_50daf_level0_col17\" class=\"col_heading level0 col17\" >17</th>\n",
       "    </tr>\n",
       "  </thead>\n",
       "  <tbody>\n",
       "    <tr>\n",
       "      <th id=\"T_50daf_level0_row0\" class=\"row_heading level0 row0\" >0</th>\n",
       "      <td id=\"T_50daf_row0_col0\" class=\"data row0 col0\" >0</td>\n",
       "      <td id=\"T_50daf_row0_col1\" class=\"data row0 col1\" >0</td>\n",
       "      <td id=\"T_50daf_row0_col2\" class=\"data row0 col2\" >0</td>\n",
       "      <td id=\"T_50daf_row0_col3\" class=\"data row0 col3\" >0</td>\n",
       "      <td id=\"T_50daf_row0_col4\" class=\"data row0 col4\" >0</td>\n",
       "      <td id=\"T_50daf_row0_col5\" class=\"data row0 col5\" >0</td>\n",
       "      <td id=\"T_50daf_row0_col6\" class=\"data row0 col6\" >0</td>\n",
       "      <td id=\"T_50daf_row0_col7\" class=\"data row0 col7\" >0</td>\n",
       "      <td id=\"T_50daf_row0_col8\" class=\"data row0 col8\" >0</td>\n",
       "      <td id=\"T_50daf_row0_col9\" class=\"data row0 col9\" >0</td>\n",
       "      <td id=\"T_50daf_row0_col10\" class=\"data row0 col10\" >0</td>\n",
       "      <td id=\"T_50daf_row0_col11\" class=\"data row0 col11\" >0</td>\n",
       "      <td id=\"T_50daf_row0_col12\" class=\"data row0 col12\" >0</td>\n",
       "      <td id=\"T_50daf_row0_col13\" class=\"data row0 col13\" >0</td>\n",
       "      <td id=\"T_50daf_row0_col14\" class=\"data row0 col14\" >0</td>\n",
       "      <td id=\"T_50daf_row0_col15\" class=\"data row0 col15\" >0</td>\n",
       "      <td id=\"T_50daf_row0_col16\" class=\"data row0 col16\" >0</td>\n",
       "      <td id=\"T_50daf_row0_col17\" class=\"data row0 col17\" >0</td>\n",
       "    </tr>\n",
       "    <tr>\n",
       "      <th id=\"T_50daf_level0_row1\" class=\"row_heading level0 row1\" >1</th>\n",
       "      <td id=\"T_50daf_row1_col0\" class=\"data row1 col0\" >0</td>\n",
       "      <td id=\"T_50daf_row1_col1\" class=\"data row1 col1\" >0</td>\n",
       "      <td id=\"T_50daf_row1_col2\" class=\"data row1 col2\" >0</td>\n",
       "      <td id=\"T_50daf_row1_col3\" class=\"data row1 col3\" >0</td>\n",
       "      <td id=\"T_50daf_row1_col4\" class=\"data row1 col4\" >0</td>\n",
       "      <td id=\"T_50daf_row1_col5\" class=\"data row1 col5\" >29</td>\n",
       "      <td id=\"T_50daf_row1_col6\" class=\"data row1 col6\" >150</td>\n",
       "      <td id=\"T_50daf_row1_col7\" class=\"data row1 col7\" >195</td>\n",
       "      <td id=\"T_50daf_row1_col8\" class=\"data row1 col8\" >254</td>\n",
       "      <td id=\"T_50daf_row1_col9\" class=\"data row1 col9\" >255</td>\n",
       "      <td id=\"T_50daf_row1_col10\" class=\"data row1 col10\" >254</td>\n",
       "      <td id=\"T_50daf_row1_col11\" class=\"data row1 col11\" >176</td>\n",
       "      <td id=\"T_50daf_row1_col12\" class=\"data row1 col12\" >193</td>\n",
       "      <td id=\"T_50daf_row1_col13\" class=\"data row1 col13\" >150</td>\n",
       "      <td id=\"T_50daf_row1_col14\" class=\"data row1 col14\" >96</td>\n",
       "      <td id=\"T_50daf_row1_col15\" class=\"data row1 col15\" >0</td>\n",
       "      <td id=\"T_50daf_row1_col16\" class=\"data row1 col16\" >0</td>\n",
       "      <td id=\"T_50daf_row1_col17\" class=\"data row1 col17\" >0</td>\n",
       "    </tr>\n",
       "    <tr>\n",
       "      <th id=\"T_50daf_level0_row2\" class=\"row_heading level0 row2\" >2</th>\n",
       "      <td id=\"T_50daf_row2_col0\" class=\"data row2 col0\" >0</td>\n",
       "      <td id=\"T_50daf_row2_col1\" class=\"data row2 col1\" >0</td>\n",
       "      <td id=\"T_50daf_row2_col2\" class=\"data row2 col2\" >0</td>\n",
       "      <td id=\"T_50daf_row2_col3\" class=\"data row2 col3\" >48</td>\n",
       "      <td id=\"T_50daf_row2_col4\" class=\"data row2 col4\" >166</td>\n",
       "      <td id=\"T_50daf_row2_col5\" class=\"data row2 col5\" >224</td>\n",
       "      <td id=\"T_50daf_row2_col6\" class=\"data row2 col6\" >253</td>\n",
       "      <td id=\"T_50daf_row2_col7\" class=\"data row2 col7\" >253</td>\n",
       "      <td id=\"T_50daf_row2_col8\" class=\"data row2 col8\" >234</td>\n",
       "      <td id=\"T_50daf_row2_col9\" class=\"data row2 col9\" >196</td>\n",
       "      <td id=\"T_50daf_row2_col10\" class=\"data row2 col10\" >253</td>\n",
       "      <td id=\"T_50daf_row2_col11\" class=\"data row2 col11\" >253</td>\n",
       "      <td id=\"T_50daf_row2_col12\" class=\"data row2 col12\" >253</td>\n",
       "      <td id=\"T_50daf_row2_col13\" class=\"data row2 col13\" >253</td>\n",
       "      <td id=\"T_50daf_row2_col14\" class=\"data row2 col14\" >233</td>\n",
       "      <td id=\"T_50daf_row2_col15\" class=\"data row2 col15\" >0</td>\n",
       "      <td id=\"T_50daf_row2_col16\" class=\"data row2 col16\" >0</td>\n",
       "      <td id=\"T_50daf_row2_col17\" class=\"data row2 col17\" >0</td>\n",
       "    </tr>\n",
       "    <tr>\n",
       "      <th id=\"T_50daf_level0_row3\" class=\"row_heading level0 row3\" >3</th>\n",
       "      <td id=\"T_50daf_row3_col0\" class=\"data row3 col0\" >0</td>\n",
       "      <td id=\"T_50daf_row3_col1\" class=\"data row3 col1\" >93</td>\n",
       "      <td id=\"T_50daf_row3_col2\" class=\"data row3 col2\" >244</td>\n",
       "      <td id=\"T_50daf_row3_col3\" class=\"data row3 col3\" >249</td>\n",
       "      <td id=\"T_50daf_row3_col4\" class=\"data row3 col4\" >253</td>\n",
       "      <td id=\"T_50daf_row3_col5\" class=\"data row3 col5\" >187</td>\n",
       "      <td id=\"T_50daf_row3_col6\" class=\"data row3 col6\" >46</td>\n",
       "      <td id=\"T_50daf_row3_col7\" class=\"data row3 col7\" >10</td>\n",
       "      <td id=\"T_50daf_row3_col8\" class=\"data row3 col8\" >8</td>\n",
       "      <td id=\"T_50daf_row3_col9\" class=\"data row3 col9\" >4</td>\n",
       "      <td id=\"T_50daf_row3_col10\" class=\"data row3 col10\" >10</td>\n",
       "      <td id=\"T_50daf_row3_col11\" class=\"data row3 col11\" >194</td>\n",
       "      <td id=\"T_50daf_row3_col12\" class=\"data row3 col12\" >253</td>\n",
       "      <td id=\"T_50daf_row3_col13\" class=\"data row3 col13\" >253</td>\n",
       "      <td id=\"T_50daf_row3_col14\" class=\"data row3 col14\" >233</td>\n",
       "      <td id=\"T_50daf_row3_col15\" class=\"data row3 col15\" >0</td>\n",
       "      <td id=\"T_50daf_row3_col16\" class=\"data row3 col16\" >0</td>\n",
       "      <td id=\"T_50daf_row3_col17\" class=\"data row3 col17\" >0</td>\n",
       "    </tr>\n",
       "    <tr>\n",
       "      <th id=\"T_50daf_level0_row4\" class=\"row_heading level0 row4\" >4</th>\n",
       "      <td id=\"T_50daf_row4_col0\" class=\"data row4 col0\" >0</td>\n",
       "      <td id=\"T_50daf_row4_col1\" class=\"data row4 col1\" >107</td>\n",
       "      <td id=\"T_50daf_row4_col2\" class=\"data row4 col2\" >253</td>\n",
       "      <td id=\"T_50daf_row4_col3\" class=\"data row4 col3\" >253</td>\n",
       "      <td id=\"T_50daf_row4_col4\" class=\"data row4 col4\" >230</td>\n",
       "      <td id=\"T_50daf_row4_col5\" class=\"data row4 col5\" >48</td>\n",
       "      <td id=\"T_50daf_row4_col6\" class=\"data row4 col6\" >0</td>\n",
       "      <td id=\"T_50daf_row4_col7\" class=\"data row4 col7\" >0</td>\n",
       "      <td id=\"T_50daf_row4_col8\" class=\"data row4 col8\" >0</td>\n",
       "      <td id=\"T_50daf_row4_col9\" class=\"data row4 col9\" >0</td>\n",
       "      <td id=\"T_50daf_row4_col10\" class=\"data row4 col10\" >0</td>\n",
       "      <td id=\"T_50daf_row4_col11\" class=\"data row4 col11\" >192</td>\n",
       "      <td id=\"T_50daf_row4_col12\" class=\"data row4 col12\" >253</td>\n",
       "      <td id=\"T_50daf_row4_col13\" class=\"data row4 col13\" >253</td>\n",
       "      <td id=\"T_50daf_row4_col14\" class=\"data row4 col14\" >156</td>\n",
       "      <td id=\"T_50daf_row4_col15\" class=\"data row4 col15\" >0</td>\n",
       "      <td id=\"T_50daf_row4_col16\" class=\"data row4 col16\" >0</td>\n",
       "      <td id=\"T_50daf_row4_col17\" class=\"data row4 col17\" >0</td>\n",
       "    </tr>\n",
       "    <tr>\n",
       "      <th id=\"T_50daf_level0_row5\" class=\"row_heading level0 row5\" >5</th>\n",
       "      <td id=\"T_50daf_row5_col0\" class=\"data row5 col0\" >0</td>\n",
       "      <td id=\"T_50daf_row5_col1\" class=\"data row5 col1\" >3</td>\n",
       "      <td id=\"T_50daf_row5_col2\" class=\"data row5 col2\" >20</td>\n",
       "      <td id=\"T_50daf_row5_col3\" class=\"data row5 col3\" >20</td>\n",
       "      <td id=\"T_50daf_row5_col4\" class=\"data row5 col4\" >15</td>\n",
       "      <td id=\"T_50daf_row5_col5\" class=\"data row5 col5\" >0</td>\n",
       "      <td id=\"T_50daf_row5_col6\" class=\"data row5 col6\" >0</td>\n",
       "      <td id=\"T_50daf_row5_col7\" class=\"data row5 col7\" >0</td>\n",
       "      <td id=\"T_50daf_row5_col8\" class=\"data row5 col8\" >0</td>\n",
       "      <td id=\"T_50daf_row5_col9\" class=\"data row5 col9\" >0</td>\n",
       "      <td id=\"T_50daf_row5_col10\" class=\"data row5 col10\" >43</td>\n",
       "      <td id=\"T_50daf_row5_col11\" class=\"data row5 col11\" >224</td>\n",
       "      <td id=\"T_50daf_row5_col12\" class=\"data row5 col12\" >253</td>\n",
       "      <td id=\"T_50daf_row5_col13\" class=\"data row5 col13\" >245</td>\n",
       "      <td id=\"T_50daf_row5_col14\" class=\"data row5 col14\" >74</td>\n",
       "      <td id=\"T_50daf_row5_col15\" class=\"data row5 col15\" >0</td>\n",
       "      <td id=\"T_50daf_row5_col16\" class=\"data row5 col16\" >0</td>\n",
       "      <td id=\"T_50daf_row5_col17\" class=\"data row5 col17\" >0</td>\n",
       "    </tr>\n",
       "    <tr>\n",
       "      <th id=\"T_50daf_level0_row6\" class=\"row_heading level0 row6\" >6</th>\n",
       "      <td id=\"T_50daf_row6_col0\" class=\"data row6 col0\" >0</td>\n",
       "      <td id=\"T_50daf_row6_col1\" class=\"data row6 col1\" >0</td>\n",
       "      <td id=\"T_50daf_row6_col2\" class=\"data row6 col2\" >0</td>\n",
       "      <td id=\"T_50daf_row6_col3\" class=\"data row6 col3\" >0</td>\n",
       "      <td id=\"T_50daf_row6_col4\" class=\"data row6 col4\" >0</td>\n",
       "      <td id=\"T_50daf_row6_col5\" class=\"data row6 col5\" >0</td>\n",
       "      <td id=\"T_50daf_row6_col6\" class=\"data row6 col6\" >0</td>\n",
       "      <td id=\"T_50daf_row6_col7\" class=\"data row6 col7\" >0</td>\n",
       "      <td id=\"T_50daf_row6_col8\" class=\"data row6 col8\" >0</td>\n",
       "      <td id=\"T_50daf_row6_col9\" class=\"data row6 col9\" >0</td>\n",
       "      <td id=\"T_50daf_row6_col10\" class=\"data row6 col10\" >249</td>\n",
       "      <td id=\"T_50daf_row6_col11\" class=\"data row6 col11\" >253</td>\n",
       "      <td id=\"T_50daf_row6_col12\" class=\"data row6 col12\" >245</td>\n",
       "      <td id=\"T_50daf_row6_col13\" class=\"data row6 col13\" >126</td>\n",
       "      <td id=\"T_50daf_row6_col14\" class=\"data row6 col14\" >0</td>\n",
       "      <td id=\"T_50daf_row6_col15\" class=\"data row6 col15\" >0</td>\n",
       "      <td id=\"T_50daf_row6_col16\" class=\"data row6 col16\" >0</td>\n",
       "      <td id=\"T_50daf_row6_col17\" class=\"data row6 col17\" >0</td>\n",
       "    </tr>\n",
       "    <tr>\n",
       "      <th id=\"T_50daf_level0_row7\" class=\"row_heading level0 row7\" >7</th>\n",
       "      <td id=\"T_50daf_row7_col0\" class=\"data row7 col0\" >0</td>\n",
       "      <td id=\"T_50daf_row7_col1\" class=\"data row7 col1\" >0</td>\n",
       "      <td id=\"T_50daf_row7_col2\" class=\"data row7 col2\" >0</td>\n",
       "      <td id=\"T_50daf_row7_col3\" class=\"data row7 col3\" >0</td>\n",
       "      <td id=\"T_50daf_row7_col4\" class=\"data row7 col4\" >0</td>\n",
       "      <td id=\"T_50daf_row7_col5\" class=\"data row7 col5\" >0</td>\n",
       "      <td id=\"T_50daf_row7_col6\" class=\"data row7 col6\" >0</td>\n",
       "      <td id=\"T_50daf_row7_col7\" class=\"data row7 col7\" >14</td>\n",
       "      <td id=\"T_50daf_row7_col8\" class=\"data row7 col8\" >101</td>\n",
       "      <td id=\"T_50daf_row7_col9\" class=\"data row7 col9\" >223</td>\n",
       "      <td id=\"T_50daf_row7_col10\" class=\"data row7 col10\" >253</td>\n",
       "      <td id=\"T_50daf_row7_col11\" class=\"data row7 col11\" >248</td>\n",
       "      <td id=\"T_50daf_row7_col12\" class=\"data row7 col12\" >124</td>\n",
       "      <td id=\"T_50daf_row7_col13\" class=\"data row7 col13\" >0</td>\n",
       "      <td id=\"T_50daf_row7_col14\" class=\"data row7 col14\" >0</td>\n",
       "      <td id=\"T_50daf_row7_col15\" class=\"data row7 col15\" >0</td>\n",
       "      <td id=\"T_50daf_row7_col16\" class=\"data row7 col16\" >0</td>\n",
       "      <td id=\"T_50daf_row7_col17\" class=\"data row7 col17\" >0</td>\n",
       "    </tr>\n",
       "    <tr>\n",
       "      <th id=\"T_50daf_level0_row8\" class=\"row_heading level0 row8\" >8</th>\n",
       "      <td id=\"T_50daf_row8_col0\" class=\"data row8 col0\" >0</td>\n",
       "      <td id=\"T_50daf_row8_col1\" class=\"data row8 col1\" >0</td>\n",
       "      <td id=\"T_50daf_row8_col2\" class=\"data row8 col2\" >0</td>\n",
       "      <td id=\"T_50daf_row8_col3\" class=\"data row8 col3\" >0</td>\n",
       "      <td id=\"T_50daf_row8_col4\" class=\"data row8 col4\" >0</td>\n",
       "      <td id=\"T_50daf_row8_col5\" class=\"data row8 col5\" >11</td>\n",
       "      <td id=\"T_50daf_row8_col6\" class=\"data row8 col6\" >166</td>\n",
       "      <td id=\"T_50daf_row8_col7\" class=\"data row8 col7\" >239</td>\n",
       "      <td id=\"T_50daf_row8_col8\" class=\"data row8 col8\" >253</td>\n",
       "      <td id=\"T_50daf_row8_col9\" class=\"data row8 col9\" >253</td>\n",
       "      <td id=\"T_50daf_row8_col10\" class=\"data row8 col10\" >253</td>\n",
       "      <td id=\"T_50daf_row8_col11\" class=\"data row8 col11\" >187</td>\n",
       "      <td id=\"T_50daf_row8_col12\" class=\"data row8 col12\" >30</td>\n",
       "      <td id=\"T_50daf_row8_col13\" class=\"data row8 col13\" >0</td>\n",
       "      <td id=\"T_50daf_row8_col14\" class=\"data row8 col14\" >0</td>\n",
       "      <td id=\"T_50daf_row8_col15\" class=\"data row8 col15\" >0</td>\n",
       "      <td id=\"T_50daf_row8_col16\" class=\"data row8 col16\" >0</td>\n",
       "      <td id=\"T_50daf_row8_col17\" class=\"data row8 col17\" >0</td>\n",
       "    </tr>\n",
       "    <tr>\n",
       "      <th id=\"T_50daf_level0_row9\" class=\"row_heading level0 row9\" >9</th>\n",
       "      <td id=\"T_50daf_row9_col0\" class=\"data row9 col0\" >0</td>\n",
       "      <td id=\"T_50daf_row9_col1\" class=\"data row9 col1\" >0</td>\n",
       "      <td id=\"T_50daf_row9_col2\" class=\"data row9 col2\" >0</td>\n",
       "      <td id=\"T_50daf_row9_col3\" class=\"data row9 col3\" >0</td>\n",
       "      <td id=\"T_50daf_row9_col4\" class=\"data row9 col4\" >0</td>\n",
       "      <td id=\"T_50daf_row9_col5\" class=\"data row9 col5\" >16</td>\n",
       "      <td id=\"T_50daf_row9_col6\" class=\"data row9 col6\" >248</td>\n",
       "      <td id=\"T_50daf_row9_col7\" class=\"data row9 col7\" >250</td>\n",
       "      <td id=\"T_50daf_row9_col8\" class=\"data row9 col8\" >253</td>\n",
       "      <td id=\"T_50daf_row9_col9\" class=\"data row9 col9\" >253</td>\n",
       "      <td id=\"T_50daf_row9_col10\" class=\"data row9 col10\" >253</td>\n",
       "      <td id=\"T_50daf_row9_col11\" class=\"data row9 col11\" >253</td>\n",
       "      <td id=\"T_50daf_row9_col12\" class=\"data row9 col12\" >232</td>\n",
       "      <td id=\"T_50daf_row9_col13\" class=\"data row9 col13\" >213</td>\n",
       "      <td id=\"T_50daf_row9_col14\" class=\"data row9 col14\" >111</td>\n",
       "      <td id=\"T_50daf_row9_col15\" class=\"data row9 col15\" >2</td>\n",
       "      <td id=\"T_50daf_row9_col16\" class=\"data row9 col16\" >0</td>\n",
       "      <td id=\"T_50daf_row9_col17\" class=\"data row9 col17\" >0</td>\n",
       "    </tr>\n",
       "    <tr>\n",
       "      <th id=\"T_50daf_level0_row10\" class=\"row_heading level0 row10\" >10</th>\n",
       "      <td id=\"T_50daf_row10_col0\" class=\"data row10 col0\" >0</td>\n",
       "      <td id=\"T_50daf_row10_col1\" class=\"data row10 col1\" >0</td>\n",
       "      <td id=\"T_50daf_row10_col2\" class=\"data row10 col2\" >0</td>\n",
       "      <td id=\"T_50daf_row10_col3\" class=\"data row10 col3\" >0</td>\n",
       "      <td id=\"T_50daf_row10_col4\" class=\"data row10 col4\" >0</td>\n",
       "      <td id=\"T_50daf_row10_col5\" class=\"data row10 col5\" >0</td>\n",
       "      <td id=\"T_50daf_row10_col6\" class=\"data row10 col6\" >0</td>\n",
       "      <td id=\"T_50daf_row10_col7\" class=\"data row10 col7\" >43</td>\n",
       "      <td id=\"T_50daf_row10_col8\" class=\"data row10 col8\" >98</td>\n",
       "      <td id=\"T_50daf_row10_col9\" class=\"data row10 col9\" >98</td>\n",
       "      <td id=\"T_50daf_row10_col10\" class=\"data row10 col10\" >208</td>\n",
       "      <td id=\"T_50daf_row10_col11\" class=\"data row10 col11\" >253</td>\n",
       "      <td id=\"T_50daf_row10_col12\" class=\"data row10 col12\" >253</td>\n",
       "      <td id=\"T_50daf_row10_col13\" class=\"data row10 col13\" >253</td>\n",
       "      <td id=\"T_50daf_row10_col14\" class=\"data row10 col14\" >253</td>\n",
       "      <td id=\"T_50daf_row10_col15\" class=\"data row10 col15\" >187</td>\n",
       "      <td id=\"T_50daf_row10_col16\" class=\"data row10 col16\" >22</td>\n",
       "      <td id=\"T_50daf_row10_col17\" class=\"data row10 col17\" >0</td>\n",
       "    </tr>\n",
       "  </tbody>\n",
       "</table>\n"
      ],
      "text/plain": [
       "<pandas.io.formats.style.Styler at 0x20231c29550>"
      ]
     },
     "execution_count": 15,
     "metadata": {},
     "output_type": "execute_result"
    }
   ],
   "source": [
    "#slicing the tensor to pick just the part with the top of the digit in it, then using pandas dataframe, we color code the values using a gradient,which shows the sfollowing output\n",
    "im3_t=tensor(im3)\n",
    "df=pd.DataFrame(im3_t[4:15,4:22])\n",
    "df.style.set_properties(**{'font-size':'6pt'}).background_gradient('Greys')"
   ]
  },
  {
   "cell_type": "code",
   "execution_count": 16,
   "id": "fe197b36",
   "metadata": {},
   "outputs": [],
   "source": [
    "#clearly bg white pixels have 0 as vlaue\n",
    "#black has 255 ish\n",
    "#thus we have seen how a image is processed by PIL"
   ]
  },
  {
   "cell_type": "code",
   "execution_count": 17,
   "id": "cab16822",
   "metadata": {},
   "outputs": [
    {
     "data": {
      "text/plain": [
       "'Initial idea\\nwe find the average pixel value for every pixel of the 3s, then do the same for the 7s.\\nThis will give us two group averages, defining \"ideal\" 3s and 7s. \\nThen to classify an image as one digit or the other, we see which of these two ideal digits match \\nthe image.(more similar)\\njust a baseline tho\\n'"
      ]
     },
     "execution_count": 17,
     "metadata": {},
     "output_type": "execute_result"
    }
   ],
   "source": [
    "'''Initial idea\n",
    "we find the average pixel value for every pixel of the 3s, then do the same for the 7s.\n",
    "This will give us two group averages, defining \"ideal\" 3s and 7s. \n",
    "Then to classify an image as one digit or the other, we see which of these two ideal digits match \n",
    "the image.(more similar)\n",
    "just a baseline tho\n",
    "'''"
   ]
  },
  {
   "cell_type": "code",
   "execution_count": 18,
   "id": "076e2837",
   "metadata": {},
   "outputs": [
    {
     "data": {
      "text/plain": [
       "(6131, 6265)"
      ]
     },
     "execution_count": 18,
     "metadata": {},
     "output_type": "execute_result"
    }
   ],
   "source": [
    "#creating a tensor containing all of our 3s stacked together. We already know how to\n",
    "#create a tensor containing single image. To create a tensor containing all the images, \n",
    "#we use python list comprehension to create a plain list of the single image tensors\n",
    "seven_tensors=[tensor(Image.open(o)) for o in sevens]\n",
    "three_tensors=[tensor(Image.open(o)) for o in threes]\n",
    "len(three_tensors),len(seven_tensors)"
   ]
  },
  {
   "cell_type": "code",
   "execution_count": 19,
   "id": "75d6617e",
   "metadata": {},
   "outputs": [
    {
     "data": {
      "text/plain": [
       "\"UNDERSTANDING LIST COMPREHENSIONS\\n-A FEATURE IN PYTHON\\n-'IDIOMATIC PYTHON'\\n-new_list=[f(o) for o in a_list if o>0]\\n-returns every element of a_list that is greater than 0, f(o) is like a representation of the function over o that represents all values after the parsing has been done\\n-shorter way to create huge lists-than with a loop\\n\""
      ]
     },
     "execution_count": 19,
     "metadata": {},
     "output_type": "execute_result"
    }
   ],
   "source": [
    "'''UNDERSTANDING LIST COMPREHENSIONS\n",
    "-A FEATURE IN PYTHON\n",
    "-'IDIOMATIC PYTHON'\n",
    "-new_list=[f(o) for o in a_list if o>0]\n",
    "-returns every element of a_list that is greater than 0, f(o) is like a representation of the function over o that represents all values after the parsing has been done\n",
    "-shorter way to create huge lists-than with a loop\n",
    "'''"
   ]
  },
  {
   "cell_type": "code",
   "execution_count": 20,
   "id": "4146dd7b",
   "metadata": {},
   "outputs": [
    {
     "data": {
      "text/plain": [
       "<Axes: >"
      ]
     },
     "execution_count": 20,
     "metadata": {},
     "output_type": "execute_result"
    },
    {
     "data": {
      "image/png": "[encoded data removed]",
      "text/plain": [
       "<Figure size 100x100 with 1 Axes>"
      ]
     },
     "metadata": {},
     "output_type": "display_data"
    }
   ],
   "source": [
    "show_image(three_tensors[1])  #using fastai's show_image to show image"
   ]
  },
  {
   "cell_type": "code",
   "execution_count": 21,
   "id": "686676ae",
   "metadata": {},
   "outputs": [
    {
     "data": {
      "text/plain": [
       "'\\nFor every pixel position, we want to compute the average over all the images of intensity of that pixel\\nto do this we first combine all the images in this list into a single 3-d tensor.The most common way to desrcribe such a tensor is to call it a rank 3 tensor\\nWe need to stack up individuall tensors into a 3D tensor so we used PyTorch function called stack.\\nSome operations in PyTorch require us to cast int to float. \\n'"
      ]
     },
     "execution_count": 21,
     "metadata": {},
     "output_type": "execute_result"
    }
   ],
   "source": [
    "'''\n",
    "For every pixel position, we want to compute the average over all the images of intensity of that pixel\n",
    "to do this we first combine all the images in this list into a single 3-d tensor.The most common way to desrcribe such a tensor is to call it a rank 3 tensor\n",
    "We need to stack up individuall tensors into a 3D tensor so we used PyTorch function called stack.\n",
    "Some operations in PyTorch require us to cast int to float. \n",
    "'''"
   ]
  },
  {
   "cell_type": "code",
   "execution_count": 22,
   "id": "be4044ba",
   "metadata": {},
   "outputs": [
    {
     "data": {
      "text/plain": [
       "torch.Size([6131, 28, 28])"
      ]
     },
     "execution_count": 22,
     "metadata": {},
     "output_type": "execute_result"
    }
   ],
   "source": [
    "stacked_sevens=torch.stack(seven_tensors).float()/255\n",
    "stacked_threes=torch.stack(three_tensors).float()/255\n",
    "stacked_threes.shape"
   ]
  },
  {
   "cell_type": "code",
   "execution_count": 23,
   "id": "b1dadc3f",
   "metadata": {},
   "outputs": [
    {
     "data": {
      "text/plain": [
       "3"
      ]
     },
     "execution_count": 23,
     "metadata": {},
     "output_type": "execute_result"
    }
   ],
   "source": [
    "len(stacked_threes.shape) #displays its rank indirectly, using shape which is size of each axis of a tensor"
   ]
  },
  {
   "cell_type": "code",
   "execution_count": 24,
   "id": "467a3dfc",
   "metadata": {},
   "outputs": [
    {
     "data": {
      "text/plain": [
       "3"
      ]
     },
     "execution_count": 24,
     "metadata": {},
     "output_type": "execute_result"
    }
   ],
   "source": [
    "stacked_threes.ndim  #directly getting the rank"
   ]
  },
  {
   "cell_type": "code",
   "execution_count": 25,
   "id": "e35dd453",
   "metadata": {},
   "outputs": [
    {
     "data": {
      "text/plain": [
       "<Axes: >"
      ]
     },
     "execution_count": 25,
     "metadata": {},
     "output_type": "execute_result"
    },
    {
     "data": {
      "image/png": "[encoded data removed]",
      "text/plain": [
       "<Figure size 100x100 with 1 Axes>"
      ]
     },
     "metadata": {},
     "output_type": "display_data"
    }
   ],
   "source": [
    "mean3=stacked_threes.mean(0)  #a sort of mean \"ideal 3\"\n",
    "show_image(mean3)"
   ]
  },
  {
   "cell_type": "code",
   "execution_count": 26,
   "id": "c6c16ad6",
   "metadata": {},
   "outputs": [
    {
     "data": {
      "text/plain": [
       "<Axes: >"
      ]
     },
     "execution_count": 26,
     "metadata": {},
     "output_type": "execute_result"
    },
    {
     "data": {
      "image/png": "[encoded data removed]",
      "text/plain": [
       "<Figure size 100x100 with 1 Axes>"
      ]
     },
     "metadata": {},
     "output_type": "display_data"
    }
   ],
   "source": [
    "mean7= stacked_sevens.mean(0) #a sort of mean ideal 7\n",
    "show_image(mean7)"
   ]
  },
  {
   "cell_type": "code",
   "execution_count": 27,
   "id": "1cd5396f",
   "metadata": {},
   "outputs": [
    {
     "data": {
      "text/plain": [
       "'Now we pick an arbitrary 3 and measure its distance from our ideal 3/7'"
      ]
     },
     "execution_count": 27,
     "metadata": {},
     "output_type": "execute_result"
    }
   ],
   "source": [
    "'''Now we pick an arbitrary 3 and measure its distance from our ideal 3/7'''"
   ]
  },
  {
   "cell_type": "code",
   "execution_count": 28,
   "id": "97d094a5",
   "metadata": {},
   "outputs": [
    {
     "data": {
      "text/plain": [
       "<Axes: >"
      ]
     },
     "execution_count": 28,
     "metadata": {},
     "output_type": "execute_result"
    },
    {
     "data": {
      "image/png": "[encoded data removed]",
      "text/plain": [
       "<Figure size 100x100 with 1 Axes>"
      ]
     },
     "metadata": {},
     "output_type": "display_data"
    }
   ],
   "source": [
    "a_3=stacked_threes[1]\n",
    "show_image(a_3)"
   ]
  },
  {
   "cell_type": "code",
   "execution_count": 29,
   "id": "784606f3",
   "metadata": {},
   "outputs": [
    {
     "data": {
      "text/plain": [
       "'\\nThis is how we determine the distance from our ideal 3\\nWe cant just add up the differences because some will be + and others will be negative\\nso we can either take mean absolute values of the differences\\nor take mean square of the differences and then take square root (RMS value)\\n'"
      ]
     },
     "execution_count": 29,
     "metadata": {},
     "output_type": "execute_result"
    }
   ],
   "source": [
    "'''\n",
    "This is how we determine the distance from our ideal 3\n",
    "We cant just add up the differences because some will be + and others will be negative\n",
    "so we can either take mean absolute values of the differences\n",
    "or take mean square of the differences and then take square root (RMS value)\n",
    "'''"
   ]
  },
  {
   "cell_type": "code",
   "execution_count": 30,
   "id": "b7cb3004",
   "metadata": {},
   "outputs": [
    {
     "data": {
      "text/plain": [
       "(tensor(0.1114), tensor(0.2021))"
      ]
     },
     "execution_count": 30,
     "metadata": {},
     "output_type": "execute_result"
    }
   ],
   "source": [
    "dist_3_abs=(a_3-mean3).abs().mean()\n",
    "dist_3_sqr=((a_3-mean3)**2).mean().sqrt()\n",
    "dist_3_abs,dist_3_sqr"
   ]
  },
  {
   "cell_type": "code",
   "execution_count": 31,
   "id": "efed77f2",
   "metadata": {},
   "outputs": [
    {
     "data": {
      "text/plain": [
       "(tensor(0.1586), tensor(0.3021))"
      ]
     },
     "execution_count": 31,
     "metadata": {},
     "output_type": "execute_result"
    }
   ],
   "source": [
    "dist_7_abs=(a_3-mean7).abs().mean()\n",
    "dist_7_sqr=((a_3-mean7)**2).mean().sqrt()\n",
    "dist_7_abs,dist_7_sqr"
   ]
  },
  {
   "cell_type": "code",
   "execution_count": 33,
   "id": "8ba63667",
   "metadata": {},
   "outputs": [
    {
     "data": {
      "text/plain": [
       "(tensor(0.1586), tensor(0.3021))"
      ]
     },
     "execution_count": 33,
     "metadata": {},
     "output_type": "execute_result"
    }
   ],
   "source": [
    "F.l1_loss(a_3.float(),mean7),F.mse_loss(a_3,mean7).sqrt() \n",
    "#mse stands for mean squared errors and l1 refers to the standard mathematical jargon for mean absolute value"
   ]
  },
  {
   "cell_type": "code",
   "execution_count": 34,
   "id": "dce4e858",
   "metadata": {},
   "outputs": [
    {
     "data": {
      "text/plain": [
       "'\\nThe difference between L1 norm and mean square error is that latter will penalize bigger mistakes more heavily \\nthan the former(and be more lenient with mistakes)\\nL1 loss is just (a-b).abs().mean() where a and b are tensors\\n'"
      ]
     },
     "execution_count": 34,
     "metadata": {},
     "output_type": "execute_result"
    }
   ],
   "source": [
    "'''\n",
    "The difference between L1 norm and mean square error is that latter will penalize bigger mistakes more heavily \n",
    "than the former(and be more lenient with mistakes)\n",
    "L1 loss is just (a-b).abs().mean() where a and b are tensors\n",
    "'''"
   ]
  },
  {
   "cell_type": "code",
   "execution_count": 36,
   "id": "9a28c6ce",
   "metadata": {},
   "outputs": [
    {
     "data": {
      "text/plain": [
       "(torch.Size([1010, 28, 28]), torch.Size([1028, 28, 28]))"
      ]
     },
     "execution_count": 36,
     "metadata": {},
     "output_type": "execute_result"
    }
   ],
   "source": [
    "valid_3_tens=torch.stack([tensor(Image.open(o)) for o in (path/'valid'/'3').ls()])\n",
    "valid_3_tens=valid_3_tens.float()/255\n",
    "valid_7_tens=torch.stack([tensor(Image.open(o)) for o in (path/'valid'/'7').ls()])\n",
    "valid_7_tens=valid_7_tens.float()/255\n",
    "valid_3_tens.shape,valid_7_tens.shape"
   ]
  },
  {
   "cell_type": "code",
   "execution_count": 37,
   "id": "665e9e09",
   "metadata": {},
   "outputs": [
    {
     "data": {
      "text/plain": [
       "tensor(0.1114)"
      ]
     },
     "execution_count": 37,
     "metadata": {},
     "output_type": "execute_result"
    }
   ],
   "source": [
    "def mnist_distance(a,b):return (a-b).abs().mean((-1,-2))\n",
    "mnist_distance(a_3,mean3)"
   ]
  },
  {
   "cell_type": "code",
   "execution_count": 38,
   "id": "632d4d57",
   "metadata": {},
   "outputs": [
    {
     "data": {
      "text/plain": [
       "(tensor([0.1280, 0.1623, 0.1242,  ..., 0.1508, 0.1263, 0.1260]),\n",
       " torch.Size([1010]))"
      ]
     },
     "execution_count": 38,
     "metadata": {},
     "output_type": "execute_result"
    }
   ],
   "source": [
    "valid_3_dist=mnist_distance(valid_3_tens,mean3)\n",
    "valid_3_dist,valid_3_dist.shape"
   ]
  },
  {
   "cell_type": "code",
   "execution_count": 39,
   "id": "b865f2f5",
   "metadata": {},
   "outputs": [
    {
     "data": {
      "text/plain": [
       "tensor([2, 3, 4])"
      ]
     },
     "execution_count": 39,
     "metadata": {},
     "output_type": "execute_result"
    }
   ],
   "source": [
    "tensor([1,2,3])+tensor(1)"
   ]
  },
  {
   "cell_type": "code",
   "execution_count": 40,
   "id": "0d64c0f1",
   "metadata": {},
   "outputs": [
    {
     "data": {
      "text/plain": [
       "torch.Size([1010, 28, 28])"
      ]
     },
     "execution_count": 40,
     "metadata": {},
     "output_type": "execute_result"
    }
   ],
   "source": [
    "(valid_3_tens-mean3).shape"
   ]
  },
  {
   "cell_type": "code",
   "execution_count": 41,
   "id": "694ddb9a",
   "metadata": {},
   "outputs": [],
   "source": [
    "def is_3(x):return mnist_distance(x,mean3)<mnist_distance(x,mean7)"
   ]
  },
  {
   "cell_type": "code",
   "execution_count": 42,
   "id": "e15b71eb",
   "metadata": {},
   "outputs": [
    {
     "data": {
      "text/plain": [
       "(tensor(True), tensor(1.))"
      ]
     },
     "execution_count": 42,
     "metadata": {},
     "output_type": "execute_result"
    }
   ],
   "source": [
    "is_3(a_3),is_3(a_3).float()"
   ]
  },
  {
   "cell_type": "code",
   "execution_count": 43,
   "id": "1e6e455a",
   "metadata": {},
   "outputs": [
    {
     "data": {
      "text/plain": [
       "tensor([ True,  True,  True,  ..., False,  True,  True])"
      ]
     },
     "execution_count": 43,
     "metadata": {},
     "output_type": "execute_result"
    }
   ],
   "source": [
    "is_3(valid_3_tens)"
   ]
  },
  {
   "cell_type": "code",
   "execution_count": 48,
   "id": "1a77272b",
   "metadata": {},
   "outputs": [
    {
     "data": {
      "text/plain": [
       "(tensor(0.9168), tensor(0.9854), tensor(0.9511))"
      ]
     },
     "execution_count": 48,
     "metadata": {},
     "output_type": "execute_result"
    }
   ],
   "source": [
    "accuracy_3s=is_3(valid_3_tens).float().mean()\n",
    "accuracy_7s=1-(is_3(valid_7_tens).float().mean())\n",
    "accuracy_3s,accuracy_7s,(accuracy_3s+accuracy_7s)/2"
   ]
  },
  {
   "cell_type": "code",
   "execution_count": 50,
   "id": "13b5be3e",
   "metadata": {},
   "outputs": [
    {
     "data": {
      "text/plain": [
       "'\\nw -= gradient(w) * lr\\n'"
      ]
     },
     "execution_count": 50,
     "metadata": {},
     "output_type": "execute_result"
    }
   ],
   "source": [
    "'''\n",
    "w -= gradient(w) * lr\n",
    "'''"
   ]
  },
  {
   "cell_type": "code",
   "execution_count": null,
   "id": "a7c53626",
   "metadata": {},
   "outputs": [],
   "source": [
    "\n"
   ]
  },
  {
   "cell_type": "code",
   "execution_count": 51,
   "id": "3d405941",
   "metadata": {},
   "outputs": [
    {
     "data": {
      "text/plain": [
       "'\\nAN END TO END SGD EXAMPLE\\n'"
      ]
     },
     "execution_count": 51,
     "metadata": {},
     "output_type": "execute_result"
    }
   ],
   "source": [
    "'''\n",
    "AN END TO END SGD EXAMPLE\n",
    "'''"
   ]
  },
  {
   "cell_type": "code",
   "execution_count": 52,
   "id": "46c90352",
   "metadata": {},
   "outputs": [
    {
     "data": {
      "text/plain": [
       "tensor([ 0.,  1.,  2.,  3.,  4.,  5.,  6.,  7.,  8.,  9., 10., 11., 12., 13., 14., 15., 16., 17., 18., 19.])"
      ]
     },
     "execution_count": 52,
     "metadata": {},
     "output_type": "execute_result"
    }
   ],
   "source": [
    "time = torch.arange(0,20).float(); time"
   ]
  },
  {
   "cell_type": "code",
   "execution_count": 53,
   "id": "0143e6cf",
   "metadata": {},
   "outputs": [
    {
     "data": {
      "image/png": "[encoded data removed]",
      "text/plain": [
       "<Figure size 640x480 with 1 Axes>"
      ]
     },
     "metadata": {},
     "output_type": "display_data"
    }
   ],
   "source": [
    "speed = torch.randn(20)*3 + 0.75*(time-9.5)**2 + 1\n",
    "plt.scatter(time,speed);"
   ]
  },
  {
   "cell_type": "code",
   "execution_count": 54,
   "id": "b82ec0b1",
   "metadata": {},
   "outputs": [],
   "source": [
    "def f(t, params):\n",
    "    a,b,c = params\n",
    "    return a*(t**2) + (b*t) + c"
   ]
  },
  {
   "cell_type": "code",
   "execution_count": 55,
   "id": "09a42110",
   "metadata": {},
   "outputs": [],
   "source": [
    "def mse(preds, targets): return ((preds-targets)**2).mean()"
   ]
  },
  {
   "cell_type": "code",
   "execution_count": 56,
   "id": "8ecd98ac",
   "metadata": {},
   "outputs": [],
   "source": [
    "#Step 1: Initialize the parameters\n",
    "params = torch.randn(3).requires_grad_()"
   ]
  },
  {
   "cell_type": "code",
   "execution_count": 57,
   "id": "a06865af",
   "metadata": {},
   "outputs": [],
   "source": [
    "orig_params = params.clone()\n",
    "     "
   ]
  },
  {
   "cell_type": "code",
   "execution_count": 58,
   "id": "5d128958",
   "metadata": {},
   "outputs": [],
   "source": [
    "#Step 2: Calculate the predictions\n",
    "preds = f(time, params)"
   ]
  },
  {
   "cell_type": "code",
   "execution_count": 59,
   "id": "090a473c",
   "metadata": {},
   "outputs": [],
   "source": [
    "def show_preds(preds, ax=None):\n",
    "    if ax is None: ax=plt.subplots()[1]\n",
    "    ax.scatter(time, speed)\n",
    "    ax.scatter(time, to_np(preds), color='red')\n",
    "    ax.set_ylim(-300,100)"
   ]
  },
  {
   "cell_type": "code",
   "execution_count": 61,
   "id": "6095ccf1",
   "metadata": {},
   "outputs": [
    {
     "data": {
      "image/png": "[encoded data removed]",
      "text/plain": [
       "<Figure size 640x480 with 1 Axes>"
      ]
     },
     "metadata": {},
     "output_type": "display_data"
    }
   ],
   "source": [
    "show_preds(preds)"
   ]
  },
  {
   "cell_type": "code",
   "execution_count": 62,
   "id": "55861f5c",
   "metadata": {},
   "outputs": [
    {
     "data": {
      "text/plain": [
       "tensor(25823.8086, grad_fn=<MeanBackward0>)"
      ]
     },
     "execution_count": 62,
     "metadata": {},
     "output_type": "execute_result"
    }
   ],
   "source": [
    "#Step 3: Calculate the loss\n",
    "loss = mse(preds, speed)\n",
    "loss"
   ]
  },
  {
   "cell_type": "code",
   "execution_count": 63,
   "id": "91026849",
   "metadata": {},
   "outputs": [
    {
     "data": {
      "text/plain": [
       "tensor([-53195.8633,  -3419.7148,   -253.8908])"
      ]
     },
     "execution_count": 63,
     "metadata": {},
     "output_type": "execute_result"
    }
   ],
   "source": [
    "#Step 4: Calculate the gradients\n",
    "loss.backward()\n",
    "params.grad"
   ]
  },
  {
   "cell_type": "code",
   "execution_count": 64,
   "id": "5095e8ac",
   "metadata": {},
   "outputs": [
    {
     "data": {
      "text/plain": [
       "tensor([-0.5320, -0.0342, -0.0025])"
      ]
     },
     "execution_count": 64,
     "metadata": {},
     "output_type": "execute_result"
    }
   ],
   "source": [
    "params.grad * 1e-5"
   ]
  },
  {
   "cell_type": "code",
   "execution_count": 65,
   "id": "f4e5dfbe",
   "metadata": {},
   "outputs": [
    {
     "data": {
      "text/plain": [
       "tensor([-0.7658, -0.7506,  1.3525], requires_grad=True)"
      ]
     },
     "execution_count": 65,
     "metadata": {},
     "output_type": "execute_result"
    }
   ],
   "source": [
    "params"
   ]
  },
  {
   "cell_type": "code",
   "execution_count": 66,
   "id": "5aa4dd6f",
   "metadata": {},
   "outputs": [],
   "source": [
    "#Step 5: Step the weights.\n",
    "lr = 1e-5\n",
    "params.data -= lr * params.grad.data\n",
    "params.grad = None\n",
    "     "
   ]
  },
  {
   "cell_type": "code",
   "execution_count": 67,
   "id": "27c6efda",
   "metadata": {},
   "outputs": [
    {
     "data": {
      "text/plain": [
       "tensor(5435.5356, grad_fn=<MeanBackward0>)"
      ]
     },
     "execution_count": 67,
     "metadata": {},
     "output_type": "execute_result"
    }
   ],
   "source": [
    "preds = f(time,params)\n",
    "mse(preds, speed)"
   ]
  },
  {
   "cell_type": "code",
   "execution_count": 68,
   "id": "566d9a02",
   "metadata": {},
   "outputs": [
    {
     "data": {
      "image/png": "[encoded data removed]",
      "text/plain": [
       "<Figure size 640x480 with 1 Axes>"
      ]
     },
     "metadata": {},
     "output_type": "display_data"
    }
   ],
   "source": [
    "show_preds(preds)"
   ]
  },
  {
   "cell_type": "code",
   "execution_count": 69,
   "id": "e00e90ae",
   "metadata": {},
   "outputs": [],
   "source": [
    "def apply_step(params, prn=True):\n",
    "    preds = f(time, params)\n",
    "    loss = mse(preds, speed)\n",
    "    loss.backward()\n",
    "    params.data -= lr * params.grad.data\n",
    "    params.grad = None\n",
    "    if prn: print(loss.item())\n",
    "    return preds"
   ]
  },
  {
   "cell_type": "code",
   "execution_count": 71,
   "id": "a8c05164",
   "metadata": {},
   "outputs": [
    {
     "name": "stdout",
     "output_type": "stream",
     "text": [
      "5435.53564453125\n",
      "1577.44921875\n",
      "847.3778076171875\n",
      "709.2225341796875\n",
      "683.0758056640625\n",
      "678.1243896484375\n",
      "677.1838989257812\n",
      "677.0023803710938\n",
      "676.9645385742188\n",
      "676.9537353515625\n"
     ]
    }
   ],
   "source": [
    "#Step 6: Repeat the process\n",
    "for i in range(10): apply_step(params)"
   ]
  },
  {
   "cell_type": "code",
   "execution_count": 72,
   "id": "846b193f",
   "metadata": {},
   "outputs": [],
   "source": [
    "params = orig_params.detach().requires_grad_()"
   ]
  },
  {
   "cell_type": "code",
   "execution_count": 74,
   "id": "6d2841c8",
   "metadata": {},
   "outputs": [
    {
     "data": {
      "image/png": "[encoded data removed]",
      "text/plain": [
       "<Figure size 1200x300 with 4 Axes>"
      ]
     },
     "metadata": {},
     "output_type": "display_data"
    }
   ],
   "source": [
    "_,axs = plt.subplots(1,4,figsize=(12,3))\n",
    "for ax in axs: show_preds(apply_step(params, False), ax)\n",
    "plt.tight_layout()"
   ]
  },
  {
   "cell_type": "code",
   "execution_count": 76,
   "id": "a9556b51",
   "metadata": {},
   "outputs": [],
   "source": [
    "train_x=torch.cat([stacked_threes,stacked_sevens]).view(-1,28*28)"
   ]
  },
  {
   "cell_type": "code",
   "execution_count": 77,
   "id": "4b358aa8",
   "metadata": {},
   "outputs": [
    {
     "data": {
      "text/plain": [
       "(torch.Size([12396, 784]), torch.Size([12396, 1]))"
      ]
     },
     "execution_count": 77,
     "metadata": {},
     "output_type": "execute_result"
    }
   ],
   "source": [
    "train_y=tensor([1]*len(threes)+[0]*len(sevens)).unsqueeze(1)\n",
    "train_x.shape,train_y.shape"
   ]
  },
  {
   "cell_type": "code",
   "execution_count": 78,
   "id": "5e1536eb",
   "metadata": {},
   "outputs": [
    {
     "data": {
      "text/plain": [
       "(torch.Size([784]), tensor([1]))"
      ]
     },
     "execution_count": 78,
     "metadata": {},
     "output_type": "execute_result"
    }
   ],
   "source": [
    "dset=list(zip(train_x,train_y))\n",
    "x,y=dset[0]\n",
    "x.shape,y"
   ]
  },
  {
   "cell_type": "code",
   "execution_count": 80,
   "id": "05db044b",
   "metadata": {},
   "outputs": [],
   "source": [
    "valid_x=torch.cat([valid_3_tens,valid_7_tens]).view(-1,28*28)\n",
    "valid_y=tensor([1]*len(valid_3_tens)+[0]*len(valid_7_tens)).unsqueeze(1)\n",
    "valid_dset=list(zip(valid_x,valid_y))"
   ]
  },
  {
   "cell_type": "code",
   "execution_count": 83,
   "id": "73530536",
   "metadata": {},
   "outputs": [],
   "source": [
    "def init_params(size,std=1.0): return (torch.randn(size)*std).requires_grad_()\n"
   ]
  },
  {
   "cell_type": "code",
   "execution_count": 87,
   "id": "269b6206",
   "metadata": {},
   "outputs": [],
   "source": [
    "weights=init_params(28*28,1)"
   ]
  },
  {
   "cell_type": "code",
   "execution_count": 88,
   "id": "68f807dc",
   "metadata": {},
   "outputs": [],
   "source": [
    "bias=init_params(1)"
   ]
  },
  {
   "cell_type": "code",
   "execution_count": 89,
   "id": "5b858d07",
   "metadata": {},
   "outputs": [
    {
     "data": {
      "text/plain": [
       "tensor([9.7615], grad_fn=<AddBackward0>)"
      ]
     },
     "execution_count": 89,
     "metadata": {},
     "output_type": "execute_result"
    }
   ],
   "source": [
    "(train_x[0]*weights.T).sum()+bias"
   ]
  },
  {
   "cell_type": "code",
   "execution_count": 91,
   "id": "71e455d0",
   "metadata": {},
   "outputs": [
    {
     "data": {
      "text/plain": [
       "tensor([ 9.7615, 14.7372,  9.3375,  ...,  7.6622,  4.2516,  1.1847], grad_fn=<AddBackward0>)"
      ]
     },
     "execution_count": 91,
     "metadata": {},
     "output_type": "execute_result"
    }
   ],
   "source": [
    "def linear1(xb): return xb@weights+bias\n",
    "preds=linear1(train_x)\n",
    "preds"
   ]
  },
  {
   "cell_type": "code",
   "execution_count": 92,
   "id": "feff4ff2",
   "metadata": {},
   "outputs": [
    {
     "data": {
      "text/plain": [
       "tensor([[ True,  True,  True,  ...,  True,  True,  True],\n",
       "        [ True,  True,  True,  ...,  True,  True,  True],\n",
       "        [ True,  True,  True,  ...,  True,  True,  True],\n",
       "        ...,\n",
       "        [False, False, False,  ..., False, False, False],\n",
       "        [False, False, False,  ..., False, False, False],\n",
       "        [False, False, False,  ..., False, False, False]])"
      ]
     },
     "execution_count": 92,
     "metadata": {},
     "output_type": "execute_result"
    }
   ],
   "source": [
    "corrects=(preds>0.0).float()==train_y\n",
    "corrects"
   ]
  },
  {
   "cell_type": "code",
   "execution_count": 93,
   "id": "d39c9f06",
   "metadata": {},
   "outputs": [
    {
     "data": {
      "text/plain": [
       "0.49650830030441284"
      ]
     },
     "execution_count": 93,
     "metadata": {},
     "output_type": "execute_result"
    }
   ],
   "source": [
    "corrects.float().mean().item()"
   ]
  },
  {
   "cell_type": "code",
   "execution_count": 94,
   "id": "d839067f",
   "metadata": {},
   "outputs": [],
   "source": [
    "with torch.no_grad(): weights[0] *=1.001"
   ]
  },
  {
   "cell_type": "code",
   "execution_count": 95,
   "id": "4b1a4418",
   "metadata": {},
   "outputs": [
    {
     "data": {
      "text/plain": [
       "0.49650830030441284"
      ]
     },
     "execution_count": 95,
     "metadata": {},
     "output_type": "execute_result"
    }
   ],
   "source": [
    "pred=linear1(train_x)\n",
    "((preds>0.0).float()==train_y).float().mean().item()"
   ]
  },
  {
   "cell_type": "code",
   "execution_count": 96,
   "id": "caa04926",
   "metadata": {},
   "outputs": [],
   "source": [
    "trgts=tensor([1,0,1])\n",
    "prds=tensor([0.9,0.4,0.2])"
   ]
  },
  {
   "cell_type": "code",
   "execution_count": 100,
   "id": "e8de415c",
   "metadata": {},
   "outputs": [],
   "source": [
    "def mnist_loss(predictions,targets):\n",
    "    return torch.where(targets==1,1-predictions,predictions).mean()"
   ]
  },
  {
   "cell_type": "code",
   "execution_count": 98,
   "id": "11dc8f07",
   "metadata": {},
   "outputs": [
    {
     "data": {
      "text/plain": [
       "tensor([0.1000, 0.4000, 0.8000])"
      ]
     },
     "execution_count": 98,
     "metadata": {},
     "output_type": "execute_result"
    }
   ],
   "source": [
    "torch.where(trgts==1,1-prds,prds)"
   ]
  },
  {
   "cell_type": "code",
   "execution_count": 101,
   "id": "8ea23546",
   "metadata": {},
   "outputs": [
    {
     "data": {
      "text/plain": [
       "tensor(0.4333)"
      ]
     },
     "execution_count": 101,
     "metadata": {},
     "output_type": "execute_result"
    }
   ],
   "source": [
    "mnist_loss(prds,trgts)"
   ]
  },
  {
   "cell_type": "markdown",
   "id": "0a53e965",
   "metadata": {},
   "source": [
    "\n",
    "mnist_loss(tensor([0.9, 0.4, 0.8]),trgts)"
   ]
  },
  {
   "cell_type": "code",
   "execution_count": 102,
   "id": "d34a143a",
   "metadata": {},
   "outputs": [
    {
     "data": {
      "text/plain": [
       "tensor(0.2333)"
      ]
     },
     "execution_count": 102,
     "metadata": {},
     "output_type": "execute_result"
    }
   ],
   "source": [
    "\n",
    "mnist_loss(tensor([0.9, 0.4, 0.8]),trgts)"
   ]
  },
  {
   "cell_type": "code",
   "execution_count": 103,
   "id": "90bcec2a",
   "metadata": {},
   "outputs": [],
   "source": [
    "def sigmoid(x): return 1/(1+torch.exp(-x))"
   ]
  },
  {
   "cell_type": "code",
   "execution_count": 104,
   "id": "215960c1",
   "metadata": {},
   "outputs": [
    {
     "data": {
      "image/png": "[encoded data removed]",
      "text/plain": [
       "<Figure size 600x400 with 1 Axes>"
      ]
     },
     "metadata": {},
     "output_type": "display_data"
    }
   ],
   "source": [
    "plot_function(torch.sigmoid, title='Sigmoid', min=-4, max=4)"
   ]
  },
  {
   "cell_type": "code",
   "execution_count": 105,
   "id": "6bcbc463",
   "metadata": {},
   "outputs": [],
   "source": [
    "\n",
    "def mnist_loss(predictions, targets):\n",
    "    predictions = predictions.sigmoid()\n",
    "    return torch.where(targets==1, 1-predictions, predictions).mean()"
   ]
  },
  {
   "cell_type": "code",
   "execution_count": 106,
   "id": "0211534d",
   "metadata": {},
   "outputs": [
    {
     "data": {
      "text/plain": [
       "[tensor([ 3, 12,  8, 10,  2]),\n",
       " tensor([ 9,  4,  7, 14,  5]),\n",
       " tensor([ 1, 13,  0,  6, 11])]"
      ]
     },
     "execution_count": 106,
     "metadata": {},
     "output_type": "execute_result"
    }
   ],
   "source": [
    "\n",
    "coll = range(15)\n",
    "dl = DataLoader(coll, batch_size=5, shuffle=True)\n",
    "list(dl)"
   ]
  },
  {
   "cell_type": "code",
   "execution_count": 107,
   "id": "b939e6ed",
   "metadata": {},
   "outputs": [
    {
     "data": {
      "text/plain": [
       "(#26) [(0, 'a'),(1, 'b'),(2, 'c'),(3, 'd'),(4, 'e'),(5, 'f'),(6, 'g'),(7, 'h'),(8, 'i'),(9, 'j')...]"
      ]
     },
     "execution_count": 107,
     "metadata": {},
     "output_type": "execute_result"
    }
   ],
   "source": [
    "\n",
    "ds = L(enumerate(string.ascii_lowercase))\n",
    "ds"
   ]
  },
  {
   "cell_type": "code",
   "execution_count": 108,
   "id": "8593e940",
   "metadata": {},
   "outputs": [
    {
     "data": {
      "text/plain": [
       "[(tensor([17, 18, 10, 22,  8, 14]), ('r', 's', 'k', 'w', 'i', 'o')),\n",
       " (tensor([20, 15,  9, 13, 21, 12]), ('u', 'p', 'j', 'n', 'v', 'm')),\n",
       " (tensor([ 7, 25,  6,  5, 11, 23]), ('h', 'z', 'g', 'f', 'l', 'x')),\n",
       " (tensor([ 1,  3,  0, 24, 19, 16]), ('b', 'd', 'a', 'y', 't', 'q')),\n",
       " (tensor([2, 4]), ('c', 'e'))]"
      ]
     },
     "execution_count": 108,
     "metadata": {},
     "output_type": "execute_result"
    }
   ],
   "source": [
    "\n",
    "dl = DataLoader(ds, batch_size=6, shuffle=True)\n",
    "list(dl)\n",
    "     "
   ]
  },
  {
   "cell_type": "code",
   "execution_count": 109,
   "id": "0aafde72",
   "metadata": {},
   "outputs": [],
   "source": [
    "\n",
    "weights = init_params((28*28,1))\n",
    "bias = init_params(1)\n",
    "     "
   ]
  },
  {
   "cell_type": "code",
   "execution_count": 110,
   "id": "c0c9a265",
   "metadata": {},
   "outputs": [
    {
     "data": {
      "text/plain": [
       "(torch.Size([256, 784]), torch.Size([256, 1]))"
      ]
     },
     "execution_count": 110,
     "metadata": {},
     "output_type": "execute_result"
    }
   ],
   "source": [
    "\n",
    "dl = DataLoader(dset, batch_size=256)\n",
    "xb,yb = first(dl)\n",
    "xb.shape,yb.shape\n",
    "     "
   ]
  },
  {
   "cell_type": "code",
   "execution_count": 111,
   "id": "f6af84ba",
   "metadata": {},
   "outputs": [],
   "source": [
    "valid_dl = DataLoader(valid_dset, batch_size=256)"
   ]
  },
  {
   "cell_type": "code",
   "execution_count": 112,
   "id": "effedff9",
   "metadata": {},
   "outputs": [
    {
     "data": {
      "text/plain": [
       "torch.Size([4, 784])"
      ]
     },
     "execution_count": 112,
     "metadata": {},
     "output_type": "execute_result"
    }
   ],
   "source": [
    "batch = train_x[:4]\n",
    "batch.shape"
   ]
  },
  {
   "cell_type": "code",
   "execution_count": 113,
   "id": "ed8c6bde",
   "metadata": {},
   "outputs": [
    {
     "data": {
      "text/plain": [
       "tensor([[-16.3989],\n",
       "        [ -7.9580],\n",
       "        [-11.7045],\n",
       "        [-21.6327]], grad_fn=<AddBackward0>)"
      ]
     },
     "execution_count": 113,
     "metadata": {},
     "output_type": "execute_result"
    }
   ],
   "source": [
    "preds = linear1(batch)\n",
    "preds"
   ]
  },
  {
   "cell_type": "code",
   "execution_count": 114,
   "id": "b4cd07f9",
   "metadata": {},
   "outputs": [
    {
     "data": {
      "text/plain": [
       "tensor(0.9999, grad_fn=<MeanBackward0>)"
      ]
     },
     "execution_count": 114,
     "metadata": {},
     "output_type": "execute_result"
    }
   ],
   "source": [
    "loss = mnist_loss(preds, train_y[:4])\n",
    "loss"
   ]
  },
  {
   "cell_type": "code",
   "execution_count": 115,
   "id": "bfd22766",
   "metadata": {},
   "outputs": [
    {
     "data": {
      "text/plain": [
       "(torch.Size([784, 1]), tensor(-1.2743e-05), tensor([-8.9484e-05]))"
      ]
     },
     "execution_count": 115,
     "metadata": {},
     "output_type": "execute_result"
    }
   ],
   "source": [
    "loss.backward()\n",
    "weights.grad.shape,weights.grad.mean(),bias.grad"
   ]
  },
  {
   "cell_type": "code",
   "execution_count": 116,
   "id": "85b72ab8",
   "metadata": {},
   "outputs": [],
   "source": [
    "def calc_grad(xb, yb, model):\n",
    "    preds = model(xb)\n",
    "    loss = mnist_loss(preds, yb)\n",
    "    loss.backward()"
   ]
  },
  {
   "cell_type": "code",
   "execution_count": 117,
   "id": "909581db",
   "metadata": {},
   "outputs": [
    {
     "data": {
      "text/plain": [
       "(tensor(-2.5486e-05), tensor([-0.0002]))"
      ]
     },
     "execution_count": 117,
     "metadata": {},
     "output_type": "execute_result"
    }
   ],
   "source": [
    "calc_grad(batch, train_y[:4], linear1)\n",
    "weights.grad.mean(),bias.grad"
   ]
  },
  {
   "cell_type": "code",
   "execution_count": 118,
   "id": "1baddec2",
   "metadata": {},
   "outputs": [
    {
     "data": {
      "text/plain": [
       "(tensor(-3.8229e-05), tensor([-0.0003]))"
      ]
     },
     "execution_count": 118,
     "metadata": {},
     "output_type": "execute_result"
    }
   ],
   "source": [
    "calc_grad(batch, train_y[:4], linear1)\n",
    "weights.grad.mean(),bias.grad"
   ]
  },
  {
   "cell_type": "code",
   "execution_count": 119,
   "id": "cde482b1",
   "metadata": {},
   "outputs": [],
   "source": [
    "weights.grad.zero_()\n",
    "bias.grad.zero_();"
   ]
  },
  {
   "cell_type": "code",
   "execution_count": 120,
   "id": "d69f8aa5",
   "metadata": {},
   "outputs": [],
   "source": [
    "def train_epoch(model, lr, params):\n",
    "    for xb,yb in dl:\n",
    "        calc_grad(xb, yb, model)\n",
    "        for p in params:\n",
    "            p.data -= p.grad*lr\n",
    "            p.grad.zero_()"
   ]
  },
  {
   "cell_type": "code",
   "execution_count": 121,
   "id": "5c2abb00",
   "metadata": {},
   "outputs": [
    {
     "data": {
      "text/plain": [
       "tensor([[False],\n",
       "        [False],\n",
       "        [False],\n",
       "        [False]])"
      ]
     },
     "execution_count": 121,
     "metadata": {},
     "output_type": "execute_result"
    }
   ],
   "source": [
    "(preds>0.0).float() == train_y[:4]"
   ]
  },
  {
   "cell_type": "code",
   "execution_count": 122,
   "id": "3e1c5e92",
   "metadata": {},
   "outputs": [],
   "source": [
    "def batch_accuracy(xb, yb):\n",
    "    preds = xb.sigmoid()\n",
    "    correct = (preds>0.5) == yb\n",
    "    return correct.float().mean()\n",
    "     "
   ]
  },
  {
   "cell_type": "code",
   "execution_count": 123,
   "id": "7eb6237e",
   "metadata": {},
   "outputs": [
    {
     "data": {
      "text/plain": [
       "tensor(0.)"
      ]
     },
     "execution_count": 123,
     "metadata": {},
     "output_type": "execute_result"
    }
   ],
   "source": [
    "batch_accuracy(linear1(batch), train_y[:4])"
   ]
  },
  {
   "cell_type": "code",
   "execution_count": 124,
   "id": "3d2779af",
   "metadata": {},
   "outputs": [],
   "source": [
    "def validate_epoch(model):\n",
    "    accs = [batch_accuracy(model(xb), yb) for xb,yb in valid_dl]\n",
    "    return round(torch.stack(accs).mean().item(), 4)"
   ]
  },
  {
   "cell_type": "code",
   "execution_count": 125,
   "id": "a1fdf22b",
   "metadata": {},
   "outputs": [
    {
     "data": {
      "text/plain": [
       "0.5727"
      ]
     },
     "execution_count": 125,
     "metadata": {},
     "output_type": "execute_result"
    }
   ],
   "source": [
    "validate_epoch(linear1)"
   ]
  },
  {
   "cell_type": "code",
   "execution_count": 126,
   "id": "10a7177e",
   "metadata": {},
   "outputs": [
    {
     "data": {
      "text/plain": [
       "0.8491"
      ]
     },
     "execution_count": 126,
     "metadata": {},
     "output_type": "execute_result"
    }
   ],
   "source": [
    "lr = 1.\n",
    "params = weights,bias\n",
    "train_epoch(linear1, lr, params)\n",
    "validate_epoch(linear1)"
   ]
  },
  {
   "cell_type": "code",
   "execution_count": 127,
   "id": "c261e1fb",
   "metadata": {},
   "outputs": [
    {
     "name": "stdout",
     "output_type": "stream",
     "text": [
      "0.9199 0.9399 0.9502 0.957 0.9599 0.9614 0.9634 0.9643 0.9668 0.9678 0.9702 0.9707 0.9726 0.9731 0.9736 0.9746 0.9756 0.9756 0.9751 0.9761 "
     ]
    }
   ],
   "source": [
    "for i in range(20):\n",
    "    train_epoch(linear1, lr, params)\n",
    "    print(validate_epoch(linear1), end=' ')"
   ]
  },
  {
   "cell_type": "code",
   "execution_count": 128,
   "id": "8ff2b92e",
   "metadata": {},
   "outputs": [],
   "source": [
    "linear_model = nn.Linear(28*28,1)\n",
    "     "
   ]
  },
  {
   "cell_type": "code",
   "execution_count": 129,
   "id": "89b40000",
   "metadata": {},
   "outputs": [
    {
     "data": {
      "text/plain": [
       "(torch.Size([1, 784]), torch.Size([1]))"
      ]
     },
     "execution_count": 129,
     "metadata": {},
     "output_type": "execute_result"
    }
   ],
   "source": [
    "w,b = linear_model.parameters()\n",
    "w.shape,b.shape"
   ]
  },
  {
   "cell_type": "code",
   "execution_count": 130,
   "id": "7ef44f1c",
   "metadata": {},
   "outputs": [],
   "source": [
    "class BasicOptim:\n",
    "    def __init__(self,params,lr): self.params,self.lr = list(params),lr\n",
    "\n",
    "    def step(self, *args, **kwargs):\n",
    "        for p in self.params: p.data -= p.grad.data * self.lr\n",
    "\n",
    "    def zero_grad(self, *args, **kwargs):\n",
    "        for p in self.params: p.grad = None"
   ]
  },
  {
   "cell_type": "code",
   "execution_count": 131,
   "id": "0538e309",
   "metadata": {},
   "outputs": [],
   "source": [
    "opt = BasicOptim(linear_model.parameters(), lr)"
   ]
  },
  {
   "cell_type": "code",
   "execution_count": 132,
   "id": "cc2b706b",
   "metadata": {},
   "outputs": [],
   "source": [
    "def train_epoch(model):\n",
    "    for xb,yb in dl:\n",
    "        calc_grad(xb, yb, model)\n",
    "        opt.step()\n",
    "        opt.zero_grad()"
   ]
  },
  {
   "cell_type": "code",
   "execution_count": 133,
   "id": "da92246f",
   "metadata": {},
   "outputs": [
    {
     "data": {
      "text/plain": [
       "0.7138"
      ]
     },
     "execution_count": 133,
     "metadata": {},
     "output_type": "execute_result"
    }
   ],
   "source": [
    "validate_epoch(linear_model)"
   ]
  },
  {
   "cell_type": "code",
   "execution_count": 134,
   "id": "77727862",
   "metadata": {},
   "outputs": [],
   "source": [
    "def train_model(model, epochs):\n",
    "    for i in range(epochs):\n",
    "        train_epoch(model)\n",
    "        print(validate_epoch(model), end=' ')"
   ]
  },
  {
   "cell_type": "code",
   "execution_count": 135,
   "id": "2540eb50",
   "metadata": {},
   "outputs": [
    {
     "name": "stdout",
     "output_type": "stream",
     "text": [
      "0.4932 0.7866 0.8555 0.918 0.9355 0.9482 0.9555 0.9638 0.9658 0.9682 0.9702 0.9721 0.9741 0.9741 0.9761 0.9765 0.9775 0.9775 0.978 0.9785 "
     ]
    }
   ],
   "source": [
    "train_model(linear_model, 20)\n",
    "     "
   ]
  },
  {
   "cell_type": "code",
   "execution_count": 136,
   "id": "c37cb1da",
   "metadata": {},
   "outputs": [
    {
     "name": "stdout",
     "output_type": "stream",
     "text": [
      "0.4932 0.8462 0.8408 0.9126 0.9346 0.9478 0.956 0.9624 0.9658 0.9668 0.9692 0.9717 0.9736 0.9751 0.9761 0.9765 0.9775 0.9785 0.9785 0.9785 "
     ]
    }
   ],
   "source": [
    "linear_model = nn.Linear(28*28,1)\n",
    "opt = SGD(linear_model.parameters(), lr)\n",
    "train_model(linear_model, 20)\n",
    "     "
   ]
  },
  {
   "cell_type": "code",
   "execution_count": 137,
   "id": "9765b4bf",
   "metadata": {},
   "outputs": [],
   "source": [
    "dls = DataLoaders(dl, valid_dl)"
   ]
  },
  {
   "cell_type": "code",
   "execution_count": 138,
   "id": "61c6ac68",
   "metadata": {},
   "outputs": [],
   "source": [
    "learn = Learner(dls, nn.Linear(28*28,1), opt_func=SGD,\n",
    "                loss_func=mnist_loss, metrics=batch_accuracy)"
   ]
  },
  {
   "cell_type": "code",
   "execution_count": 139,
   "id": "0bf8a458",
   "metadata": {},
   "outputs": [
    {
     "data": {
      "text/html": [
       "\n",
       "<style>\n",
       "    /* Turns off some styling */\n",
       "    progress {\n",
       "        /* gets rid of default border in Firefox and Opera. */\n",
       "        border: none;\n",
       "        /* Needs to be in here for Safari polyfill so background images work as expected. */\n",
       "        background-size: auto;\n",
       "    }\n",
       "    progress:not([value]), progress:not([value])::-webkit-progress-bar {\n",
       "        background: repeating-linear-gradient(45deg, #7e7e7e, #7e7e7e 10px, #5c5c5c 10px, #5c5c5c 20px);\n",
       "    }\n",
       "    .progress-bar-interrupted, .progress-bar-interrupted::-webkit-progress-bar {\n",
       "        background: #F44336;\n",
       "    }\n",
       "</style>\n"
      ],
      "text/plain": [
       "<IPython.core.display.HTML object>"
      ]
     },
     "metadata": {},
     "output_type": "display_data"
    },
    {
     "data": {
      "text/html": [
       "<table border=\"1\" class=\"dataframe\">\n",
       "  <thead>\n",
       "    <tr style=\"text-align: left;\">\n",
       "      <th>epoch</th>\n",
       "      <th>train_loss</th>\n",
       "      <th>valid_loss</th>\n",
       "      <th>batch_accuracy</th>\n",
       "      <th>time</th>\n",
       "    </tr>\n",
       "  </thead>\n",
       "  <tbody>\n",
       "    <tr>\n",
       "      <td>0</td>\n",
       "      <td>0.636554</td>\n",
       "      <td>0.503421</td>\n",
       "      <td>0.495584</td>\n",
       "      <td>00:00</td>\n",
       "    </tr>\n",
       "    <tr>\n",
       "      <td>1</td>\n",
       "      <td>0.499356</td>\n",
       "      <td>0.185199</td>\n",
       "      <td>0.846418</td>\n",
       "      <td>00:00</td>\n",
       "    </tr>\n",
       "    <tr>\n",
       "      <td>2</td>\n",
       "      <td>0.184135</td>\n",
       "      <td>0.179021</td>\n",
       "      <td>0.840039</td>\n",
       "      <td>00:00</td>\n",
       "    </tr>\n",
       "    <tr>\n",
       "      <td>3</td>\n",
       "      <td>0.081232</td>\n",
       "      <td>0.106047</td>\n",
       "      <td>0.912169</td>\n",
       "      <td>00:00</td>\n",
       "    </tr>\n",
       "    <tr>\n",
       "      <td>4</td>\n",
       "      <td>0.043284</td>\n",
       "      <td>0.077659</td>\n",
       "      <td>0.932777</td>\n",
       "      <td>00:00</td>\n",
       "    </tr>\n",
       "    <tr>\n",
       "      <td>5</td>\n",
       "      <td>0.028443</td>\n",
       "      <td>0.062311</td>\n",
       "      <td>0.947498</td>\n",
       "      <td>00:00</td>\n",
       "    </tr>\n",
       "    <tr>\n",
       "      <td>6</td>\n",
       "      <td>0.022328</td>\n",
       "      <td>0.052687</td>\n",
       "      <td>0.955839</td>\n",
       "      <td>00:00</td>\n",
       "    </tr>\n",
       "    <tr>\n",
       "      <td>7</td>\n",
       "      <td>0.019604</td>\n",
       "      <td>0.046263</td>\n",
       "      <td>0.962709</td>\n",
       "      <td>00:00</td>\n",
       "    </tr>\n",
       "    <tr>\n",
       "      <td>8</td>\n",
       "      <td>0.018221</td>\n",
       "      <td>0.041756</td>\n",
       "      <td>0.965653</td>\n",
       "      <td>00:00</td>\n",
       "    </tr>\n",
       "    <tr>\n",
       "      <td>9</td>\n",
       "      <td>0.017391</td>\n",
       "      <td>0.038445</td>\n",
       "      <td>0.967125</td>\n",
       "      <td>00:00</td>\n",
       "    </tr>\n",
       "  </tbody>\n",
       "</table>"
      ],
      "text/plain": [
       "<IPython.core.display.HTML object>"
      ]
     },
     "metadata": {},
     "output_type": "display_data"
    }
   ],
   "source": [
    "learn.fit(10, lr=lr)"
   ]
  },
  {
   "cell_type": "code",
   "execution_count": 140,
   "id": "ac67ea43",
   "metadata": {},
   "outputs": [],
   "source": [
    "\n",
    "def simple_net(xb): \n",
    "    res = xb@w1 + b1\n",
    "    res = res.max(tensor(0.0))\n",
    "    res = res@w2 + b2\n",
    "    return res\n",
    "     "
   ]
  },
  {
   "cell_type": "code",
   "execution_count": 141,
   "id": "df4d4d2c",
   "metadata": {},
   "outputs": [],
   "source": [
    "w1 = init_params((28*28,30))\n",
    "b1 = init_params(30)\n",
    "w2 = init_params((30,1))\n",
    "b2 = init_params(1)"
   ]
  },
  {
   "cell_type": "code",
   "execution_count": 142,
   "id": "627851d2",
   "metadata": {},
   "outputs": [
    {
     "data": {
      "image/png": "[encoded data removed]",
      "text/plain": [
       "<Figure size 600x400 with 1 Axes>"
      ]
     },
     "metadata": {},
     "output_type": "display_data"
    }
   ],
   "source": [
    "plot_function(F.relu)\n"
   ]
  },
  {
   "cell_type": "code",
   "execution_count": 143,
   "id": "24dfe862",
   "metadata": {},
   "outputs": [],
   "source": [
    "simple_net = nn.Sequential(\n",
    "    nn.Linear(28*28,30),\n",
    "    nn.ReLU(),\n",
    "    nn.Linear(30,1)\n",
    ")"
   ]
  },
  {
   "cell_type": "code",
   "execution_count": 144,
   "id": "af87617f",
   "metadata": {},
   "outputs": [],
   "source": [
    "learn = Learner(dls, simple_net, opt_func=SGD,\n",
    "                loss_func=mnist_loss, metrics=batch_accuracy)"
   ]
  },
  {
   "cell_type": "code",
   "execution_count": 145,
   "id": "1b9f1ce7",
   "metadata": {},
   "outputs": [
    {
     "data": {
      "text/html": [
       "\n",
       "<style>\n",
       "    /* Turns off some styling */\n",
       "    progress {\n",
       "        /* gets rid of default border in Firefox and Opera. */\n",
       "        border: none;\n",
       "        /* Needs to be in here for Safari polyfill so background images work as expected. */\n",
       "        background-size: auto;\n",
       "    }\n",
       "    progress:not([value]), progress:not([value])::-webkit-progress-bar {\n",
       "        background: repeating-linear-gradient(45deg, #7e7e7e, #7e7e7e 10px, #5c5c5c 10px, #5c5c5c 20px);\n",
       "    }\n",
       "    .progress-bar-interrupted, .progress-bar-interrupted::-webkit-progress-bar {\n",
       "        background: #F44336;\n",
       "    }\n",
       "</style>\n"
      ],
      "text/plain": [
       "<IPython.core.display.HTML object>"
      ]
     },
     "metadata": {},
     "output_type": "display_data"
    },
    {
     "data": {
      "text/html": [
       "<table border=\"1\" class=\"dataframe\">\n",
       "  <thead>\n",
       "    <tr style=\"text-align: left;\">\n",
       "      <th>epoch</th>\n",
       "      <th>train_loss</th>\n",
       "      <th>valid_loss</th>\n",
       "      <th>batch_accuracy</th>\n",
       "      <th>time</th>\n",
       "    </tr>\n",
       "  </thead>\n",
       "  <tbody>\n",
       "    <tr>\n",
       "      <td>0</td>\n",
       "      <td>0.357809</td>\n",
       "      <td>0.395824</td>\n",
       "      <td>0.511286</td>\n",
       "      <td>00:00</td>\n",
       "    </tr>\n",
       "    <tr>\n",
       "      <td>1</td>\n",
       "      <td>0.163861</td>\n",
       "      <td>0.247912</td>\n",
       "      <td>0.781158</td>\n",
       "      <td>00:00</td>\n",
       "    </tr>\n",
       "    <tr>\n",
       "      <td>2</td>\n",
       "      <td>0.088579</td>\n",
       "      <td>0.120991</td>\n",
       "      <td>0.911187</td>\n",
       "      <td>00:00</td>\n",
       "    </tr>\n",
       "    <tr>\n",
       "      <td>3</td>\n",
       "      <td>0.056597</td>\n",
       "      <td>0.079901</td>\n",
       "      <td>0.939647</td>\n",
       "      <td>00:00</td>\n",
       "    </tr>\n",
       "    <tr>\n",
       "      <td>4</td>\n",
       "      <td>0.041966</td>\n",
       "      <td>0.061844</td>\n",
       "      <td>0.956330</td>\n",
       "      <td>00:00</td>\n",
       "    </tr>\n",
       "    <tr>\n",
       "      <td>5</td>\n",
       "      <td>0.034643</td>\n",
       "      <td>0.051889</td>\n",
       "      <td>0.962218</td>\n",
       "      <td>00:00</td>\n",
       "    </tr>\n",
       "    <tr>\n",
       "      <td>6</td>\n",
       "      <td>0.030529</td>\n",
       "      <td>0.045669</td>\n",
       "      <td>0.965162</td>\n",
       "      <td>00:00</td>\n",
       "    </tr>\n",
       "    <tr>\n",
       "      <td>7</td>\n",
       "      <td>0.027908</td>\n",
       "      <td>0.041440</td>\n",
       "      <td>0.967125</td>\n",
       "      <td>00:00</td>\n",
       "    </tr>\n",
       "    <tr>\n",
       "      <td>8</td>\n",
       "      <td>0.026046</td>\n",
       "      <td>0.038380</td>\n",
       "      <td>0.968106</td>\n",
       "      <td>00:00</td>\n",
       "    </tr>\n",
       "    <tr>\n",
       "      <td>9</td>\n",
       "      <td>0.024618</td>\n",
       "      <td>0.036053</td>\n",
       "      <td>0.969578</td>\n",
       "      <td>00:00</td>\n",
       "    </tr>\n",
       "    <tr>\n",
       "      <td>10</td>\n",
       "      <td>0.023467</td>\n",
       "      <td>0.034216</td>\n",
       "      <td>0.971541</td>\n",
       "      <td>00:00</td>\n",
       "    </tr>\n",
       "    <tr>\n",
       "      <td>11</td>\n",
       "      <td>0.022509</td>\n",
       "      <td>0.032719</td>\n",
       "      <td>0.972522</td>\n",
       "      <td>00:00</td>\n",
       "    </tr>\n",
       "    <tr>\n",
       "      <td>12</td>\n",
       "      <td>0.021696</td>\n",
       "      <td>0.031462</td>\n",
       "      <td>0.974485</td>\n",
       "      <td>00:00</td>\n",
       "    </tr>\n",
       "    <tr>\n",
       "      <td>13</td>\n",
       "      <td>0.020994</td>\n",
       "      <td>0.030385</td>\n",
       "      <td>0.974485</td>\n",
       "      <td>00:00</td>\n",
       "    </tr>\n",
       "    <tr>\n",
       "      <td>14</td>\n",
       "      <td>0.020380</td>\n",
       "      <td>0.029448</td>\n",
       "      <td>0.974975</td>\n",
       "      <td>00:00</td>\n",
       "    </tr>\n",
       "    <tr>\n",
       "      <td>15</td>\n",
       "      <td>0.019836</td>\n",
       "      <td>0.028622</td>\n",
       "      <td>0.975466</td>\n",
       "      <td>00:00</td>\n",
       "    </tr>\n",
       "    <tr>\n",
       "      <td>16</td>\n",
       "      <td>0.019352</td>\n",
       "      <td>0.027886</td>\n",
       "      <td>0.975957</td>\n",
       "      <td>00:00</td>\n",
       "    </tr>\n",
       "    <tr>\n",
       "      <td>17</td>\n",
       "      <td>0.018915</td>\n",
       "      <td>0.027224</td>\n",
       "      <td>0.976938</td>\n",
       "      <td>00:00</td>\n",
       "    </tr>\n",
       "    <tr>\n",
       "      <td>18</td>\n",
       "      <td>0.018518</td>\n",
       "      <td>0.026626</td>\n",
       "      <td>0.977429</td>\n",
       "      <td>00:00</td>\n",
       "    </tr>\n",
       "    <tr>\n",
       "      <td>19</td>\n",
       "      <td>0.018156</td>\n",
       "      <td>0.026084</td>\n",
       "      <td>0.977920</td>\n",
       "      <td>00:00</td>\n",
       "    </tr>\n",
       "    <tr>\n",
       "      <td>20</td>\n",
       "      <td>0.017824</td>\n",
       "      <td>0.025588</td>\n",
       "      <td>0.978410</td>\n",
       "      <td>00:00</td>\n",
       "    </tr>\n",
       "    <tr>\n",
       "      <td>21</td>\n",
       "      <td>0.017516</td>\n",
       "      <td>0.025135</td>\n",
       "      <td>0.978901</td>\n",
       "      <td>00:00</td>\n",
       "    </tr>\n",
       "    <tr>\n",
       "      <td>22</td>\n",
       "      <td>0.017230</td>\n",
       "      <td>0.024719</td>\n",
       "      <td>0.979392</td>\n",
       "      <td>00:00</td>\n",
       "    </tr>\n",
       "    <tr>\n",
       "      <td>23</td>\n",
       "      <td>0.016964</td>\n",
       "      <td>0.024335</td>\n",
       "      <td>0.980373</td>\n",
       "      <td>00:00</td>\n",
       "    </tr>\n",
       "    <tr>\n",
       "      <td>24</td>\n",
       "      <td>0.016715</td>\n",
       "      <td>0.023981</td>\n",
       "      <td>0.980373</td>\n",
       "      <td>00:00</td>\n",
       "    </tr>\n",
       "    <tr>\n",
       "      <td>25</td>\n",
       "      <td>0.016481</td>\n",
       "      <td>0.023653</td>\n",
       "      <td>0.980864</td>\n",
       "      <td>00:00</td>\n",
       "    </tr>\n",
       "    <tr>\n",
       "      <td>26</td>\n",
       "      <td>0.016260</td>\n",
       "      <td>0.023348</td>\n",
       "      <td>0.980864</td>\n",
       "      <td>00:00</td>\n",
       "    </tr>\n",
       "    <tr>\n",
       "      <td>27</td>\n",
       "      <td>0.016051</td>\n",
       "      <td>0.023066</td>\n",
       "      <td>0.980864</td>\n",
       "      <td>00:00</td>\n",
       "    </tr>\n",
       "    <tr>\n",
       "      <td>28</td>\n",
       "      <td>0.015853</td>\n",
       "      <td>0.022802</td>\n",
       "      <td>0.981845</td>\n",
       "      <td>00:00</td>\n",
       "    </tr>\n",
       "    <tr>\n",
       "      <td>29</td>\n",
       "      <td>0.015666</td>\n",
       "      <td>0.022556</td>\n",
       "      <td>0.981845</td>\n",
       "      <td>00:00</td>\n",
       "    </tr>\n",
       "    <tr>\n",
       "      <td>30</td>\n",
       "      <td>0.015487</td>\n",
       "      <td>0.022326</td>\n",
       "      <td>0.982826</td>\n",
       "      <td>00:00</td>\n",
       "    </tr>\n",
       "    <tr>\n",
       "      <td>31</td>\n",
       "      <td>0.015317</td>\n",
       "      <td>0.022110</td>\n",
       "      <td>0.982826</td>\n",
       "      <td>00:00</td>\n",
       "    </tr>\n",
       "    <tr>\n",
       "      <td>32</td>\n",
       "      <td>0.015154</td>\n",
       "      <td>0.021908</td>\n",
       "      <td>0.982826</td>\n",
       "      <td>00:00</td>\n",
       "    </tr>\n",
       "    <tr>\n",
       "      <td>33</td>\n",
       "      <td>0.014999</td>\n",
       "      <td>0.021719</td>\n",
       "      <td>0.982826</td>\n",
       "      <td>00:00</td>\n",
       "    </tr>\n",
       "    <tr>\n",
       "      <td>34</td>\n",
       "      <td>0.014850</td>\n",
       "      <td>0.021540</td>\n",
       "      <td>0.982826</td>\n",
       "      <td>00:00</td>\n",
       "    </tr>\n",
       "    <tr>\n",
       "      <td>35</td>\n",
       "      <td>0.014707</td>\n",
       "      <td>0.021372</td>\n",
       "      <td>0.982826</td>\n",
       "      <td>00:00</td>\n",
       "    </tr>\n",
       "    <tr>\n",
       "      <td>36</td>\n",
       "      <td>0.014570</td>\n",
       "      <td>0.021213</td>\n",
       "      <td>0.982826</td>\n",
       "      <td>00:00</td>\n",
       "    </tr>\n",
       "    <tr>\n",
       "      <td>37</td>\n",
       "      <td>0.014438</td>\n",
       "      <td>0.021062</td>\n",
       "      <td>0.982826</td>\n",
       "      <td>00:00</td>\n",
       "    </tr>\n",
       "    <tr>\n",
       "      <td>38</td>\n",
       "      <td>0.014311</td>\n",
       "      <td>0.020919</td>\n",
       "      <td>0.982826</td>\n",
       "      <td>00:00</td>\n",
       "    </tr>\n",
       "    <tr>\n",
       "      <td>39</td>\n",
       "      <td>0.014188</td>\n",
       "      <td>0.020783</td>\n",
       "      <td>0.982336</td>\n",
       "      <td>00:00</td>\n",
       "    </tr>\n",
       "  </tbody>\n",
       "</table>"
      ],
      "text/plain": [
       "<IPython.core.display.HTML object>"
      ]
     },
     "metadata": {},
     "output_type": "display_data"
    }
   ],
   "source": [
    "learn.fit(40, 0.1)"
   ]
  },
  {
   "cell_type": "code",
   "execution_count": 146,
   "id": "f3a4172b",
   "metadata": {},
   "outputs": [
    {
     "data": {
      "image/png": "[encoded data removed]",
      "text/plain": [
       "<Figure size 640x480 with 1 Axes>"
      ]
     },
     "metadata": {},
     "output_type": "display_data"
    }
   ],
   "source": [
    "plt.plot(L(learn.recorder.values).itemgot(2));"
   ]
  },
  {
   "cell_type": "code",
   "execution_count": 147,
   "id": "d24c73bc",
   "metadata": {},
   "outputs": [
    {
     "data": {
      "text/plain": [
       "0.98233562707901"
      ]
     },
     "execution_count": 147,
     "metadata": {},
     "output_type": "execute_result"
    }
   ],
   "source": [
    "learn.recorder.values[-1][2]"
   ]
  },
  {
   "cell_type": "code",
   "execution_count": 148,
   "id": "d48ad7bb",
   "metadata": {},
   "outputs": [
    {
     "name": "stderr",
     "output_type": "stream",
     "text": [
      "C:\\Users\\Kesha\\conda3\\Lib\\site-packages\\torchvision\\models\\_utils.py:208: UserWarning: The parameter 'pretrained' is deprecated since 0.13 and may be removed in the future, please use 'weights' instead.\n",
      "  warnings.warn(\n",
      "C:\\Users\\Kesha\\conda3\\Lib\\site-packages\\torchvision\\models\\_utils.py:223: UserWarning: Arguments other than a weight enum or `None` for 'weights' are deprecated since 0.13 and may be removed in the future. The current behavior is equivalent to passing `weights=None`.\n",
      "  warnings.warn(msg)\n"
     ]
    },
    {
     "data": {
      "text/html": [
       "\n",
       "<style>\n",
       "    /* Turns off some styling */\n",
       "    progress {\n",
       "        /* gets rid of default border in Firefox and Opera. */\n",
       "        border: none;\n",
       "        /* Needs to be in here for Safari polyfill so background images work as expected. */\n",
       "        background-size: auto;\n",
       "    }\n",
       "    progress:not([value]), progress:not([value])::-webkit-progress-bar {\n",
       "        background: repeating-linear-gradient(45deg, #7e7e7e, #7e7e7e 10px, #5c5c5c 10px, #5c5c5c 20px);\n",
       "    }\n",
       "    .progress-bar-interrupted, .progress-bar-interrupted::-webkit-progress-bar {\n",
       "        background: #F44336;\n",
       "    }\n",
       "</style>\n"
      ],
      "text/plain": [
       "<IPython.core.display.HTML object>"
      ]
     },
     "metadata": {},
     "output_type": "display_data"
    },
    {
     "data": {
      "text/html": [
       "<table border=\"1\" class=\"dataframe\">\n",
       "  <thead>\n",
       "    <tr style=\"text-align: left;\">\n",
       "      <th>epoch</th>\n",
       "      <th>train_loss</th>\n",
       "      <th>valid_loss</th>\n",
       "      <th>accuracy</th>\n",
       "      <th>time</th>\n",
       "    </tr>\n",
       "  </thead>\n",
       "  <tbody>\n",
       "    <tr>\n",
       "      <td>0</td>\n",
       "      <td>0.100452</td>\n",
       "      <td>0.008658</td>\n",
       "      <td>0.998528</td>\n",
       "      <td>04:59</td>\n",
       "    </tr>\n",
       "  </tbody>\n",
       "</table>"
      ],
      "text/plain": [
       "<IPython.core.display.HTML object>"
      ]
     },
     "metadata": {},
     "output_type": "display_data"
    }
   ],
   "source": [
    "dls = ImageDataLoaders.from_folder(path)\n",
    "learn = vision_learner(dls, resnet18, pretrained=False,\n",
    "                    loss_func=F.cross_entropy, metrics=accuracy)\n",
    "learn.fit_one_cycle(1, 0.1)"
   ]
  },
  {
   "cell_type": "code",
   "execution_count": null,
   "id": "78aada06",
   "metadata": {},
   "outputs": [],
   "source": []
  }
 ],
 "metadata": {
  "kernelspec": {
   "display_name": "Python 3 (ipykernel)",
   "language": "python",
   "name": "python3"
  },
  "language_info": {
   "codemirror_mode": {
    "name": "ipython",
    "version": 3
   },
   "file_extension": ".py",
   "mimetype": "text/x-python",
   "name": "python",
   "nbconvert_exporter": "python",
   "pygments_lexer": "ipython3",
   "version": "3.11.3"
  }
 },
 "nbformat": 4,
 "nbformat_minor": 5
}
